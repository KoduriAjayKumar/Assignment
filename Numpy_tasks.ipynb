{
  "cells": [
    {
      "cell_type": "markdown",
      "metadata": {
        "id": "view-in-github",
        "colab_type": "text"
      },
      "source": [
        "<a href=\"https://colab.research.google.com/github/KoduriAjayKumar/Assignment/blob/main/Numpy_tasks.ipynb\" target=\"_parent\"><img src=\"https://colab.research.google.com/assets/colab-badge.svg\" alt=\"Open In Colab\"/></a>"
      ]
    },
    {
      "cell_type": "markdown",
      "metadata": {
        "id": "_KXy5XjQ3F2E"
      },
      "source": [
        "# Numpy\n",
        "\n"
      ]
    },
    {
      "cell_type": "markdown",
      "metadata": {
        "id": "YZslIgtk3F2I"
      },
      "source": [
        "#### 1. Import the numpy package under the name `np` (★☆☆) \n",
        "(**hint**: import … as …)"
      ]
    },
    {
      "cell_type": "code",
      "execution_count": 4,
      "metadata": {
        "collapsed": true,
        "id": "xIQhuG_C3F2J"
      },
      "outputs": [],
      "source": [
        "import numpy as np"
      ]
    },
    {
      "cell_type": "markdown",
      "metadata": {
        "id": "vIke2-Ij3F2J"
      },
      "source": [
        "#### 2. Print the numpy version and the configuration (★☆☆) \n",
        "(**hint**: np.\\_\\_version\\_\\_, np.show\\_config)"
      ]
    },
    {
      "cell_type": "code",
      "source": [
        "from google.colab import drive\n",
        "drive.mount('/content/drive')"
      ],
      "metadata": {
        "id": "oxjsQfLy4SFe"
      },
      "execution_count": null,
      "outputs": []
    },
    {
      "cell_type": "code",
      "execution_count": null,
      "metadata": {
        "colab": {
          "base_uri": "https://localhost:8080/"
        },
        "id": "Ze47BCi43F2K",
        "outputId": "68cc1e10-80e8-48c1-e67d-915ad1300f49"
      },
      "outputs": [
        {
          "output_type": "stream",
          "name": "stdout",
          "text": [
            "1.21.5\n",
            "<module 'numpy.__config__' from '/usr/local/lib/python3.7/dist-packages/numpy/__config__.py'>\n"
          ]
        }
      ],
      "source": [
        "print(np.__version__)\n",
        "print(np.__config__)"
      ]
    },
    {
      "cell_type": "markdown",
      "metadata": {
        "id": "U5x0uFUm3F2L"
      },
      "source": [
        "#### 3. Create a null vector of size 10 (★☆☆) \n",
        "(**hint**: np.zeros)"
      ]
    },
    {
      "cell_type": "code",
      "execution_count": null,
      "metadata": {
        "colab": {
          "base_uri": "https://localhost:8080/"
        },
        "id": "xY2RLGjv3F2M",
        "outputId": "893121ef-e412-40f1-f0d8-26ecd27d86b6"
      },
      "outputs": [
        {
          "output_type": "stream",
          "name": "stdout",
          "text": [
            "[0. 0. 0. 0. 0. 0. 0. 0. 0. 0.]\n"
          ]
        }
      ],
      "source": [
        "a = np.zeros(10)\n",
        "print(a)"
      ]
    },
    {
      "cell_type": "markdown",
      "metadata": {
        "id": "_p7NbKIQ3F2N"
      },
      "source": [
        "#### 4.  How to find the memory size of any array (★☆☆) \n",
        "(**hint**: size, itemsize)"
      ]
    },
    {
      "cell_type": "code",
      "execution_count": null,
      "metadata": {
        "colab": {
          "base_uri": "https://localhost:8080/"
        },
        "id": "XWGBHqQ33F2O",
        "outputId": "38427b80-7b6f-4be4-cd02-d85fb81b8d8e"
      },
      "outputs": [
        {
          "output_type": "stream",
          "name": "stdout",
          "text": [
            "10\n",
            "8\n"
          ]
        },
        {
          "output_type": "execute_result",
          "data": {
            "text/plain": [
              "<function numpy.size>"
            ]
          },
          "metadata": {},
          "execution_count": 20
        }
      ],
      "source": [
        "print(a.size)\n",
        "print(a.itemsize)\n",
        "np.size"
      ]
    },
    {
      "cell_type": "markdown",
      "metadata": {
        "id": "RNMPgoDA3F2P"
      },
      "source": [
        "#### 5.  How to get the documentation of the numpy add function from the command line? (★☆☆) \n",
        "(**hint**: np.info)"
      ]
    },
    {
      "cell_type": "code",
      "execution_count": null,
      "metadata": {
        "collapsed": true,
        "colab": {
          "base_uri": "https://localhost:8080/"
        },
        "id": "w5TJaat93F2P",
        "outputId": "63e42327-3876-4cf7-e752-8268b5b74a93"
      },
      "outputs": [
        {
          "output_type": "stream",
          "name": "stdout",
          "text": [
            "add(x1, x2, /, out=None, *, where=True, casting='same_kind', order='K', dtype=None, subok=True[, signature, extobj])\n",
            "\n",
            "Add arguments element-wise.\n",
            "\n",
            "Parameters\n",
            "----------\n",
            "x1, x2 : array_like\n",
            "    The arrays to be added.\n",
            "    If ``x1.shape != x2.shape``, they must be broadcastable to a common\n",
            "    shape (which becomes the shape of the output).\n",
            "out : ndarray, None, or tuple of ndarray and None, optional\n",
            "    A location into which the result is stored. If provided, it must have\n",
            "    a shape that the inputs broadcast to. If not provided or None,\n",
            "    a freshly-allocated array is returned. A tuple (possible only as a\n",
            "    keyword argument) must have length equal to the number of outputs.\n",
            "where : array_like, optional\n",
            "    This condition is broadcast over the input. At locations where the\n",
            "    condition is True, the `out` array will be set to the ufunc result.\n",
            "    Elsewhere, the `out` array will retain its original value.\n",
            "    Note that if an uninitialized `out` array is created via the default\n",
            "    ``out=None``, locations within it where the condition is False will\n",
            "    remain uninitialized.\n",
            "**kwargs\n",
            "    For other keyword-only arguments, see the\n",
            "    :ref:`ufunc docs <ufuncs.kwargs>`.\n",
            "\n",
            "Returns\n",
            "-------\n",
            "add : ndarray or scalar\n",
            "    The sum of `x1` and `x2`, element-wise.\n",
            "    This is a scalar if both `x1` and `x2` are scalars.\n",
            "\n",
            "Notes\n",
            "-----\n",
            "Equivalent to `x1` + `x2` in terms of array broadcasting.\n",
            "\n",
            "Examples\n",
            "--------\n",
            ">>> np.add(1.0, 4.0)\n",
            "5.0\n",
            ">>> x1 = np.arange(9.0).reshape((3, 3))\n",
            ">>> x2 = np.arange(3.0)\n",
            ">>> np.add(x1, x2)\n",
            "array([[  0.,   2.,   4.],\n",
            "       [  3.,   5.,   7.],\n",
            "       [  6.,   8.,  10.]])\n",
            "\n",
            "The ``+`` operator can be used as a shorthand for ``np.add`` on ndarrays.\n",
            "\n",
            ">>> x1 = np.arange(9.0).reshape((3, 3))\n",
            ">>> x2 = np.arange(3.0)\n",
            ">>> x1 + x2\n",
            "array([[ 0.,  2.,  4.],\n",
            "       [ 3.,  5.,  7.],\n",
            "       [ 6.,  8., 10.]])\n",
            "None\n"
          ]
        }
      ],
      "source": [
        "print(np.info(np.add))"
      ]
    },
    {
      "cell_type": "markdown",
      "metadata": {
        "id": "pYMO4e7N3F2P"
      },
      "source": [
        "#### 6.  Create a null vector of size 10 but the fifth value which is 1 (★☆☆) \n",
        "(**hint**: array\\[4\\])"
      ]
    },
    {
      "cell_type": "code",
      "execution_count": null,
      "metadata": {
        "colab": {
          "base_uri": "https://localhost:8080/"
        },
        "id": "KUiltmjX3F2Q",
        "outputId": "312d614c-88cd-4fc5-d110-126d320f9666"
      },
      "outputs": [
        {
          "output_type": "stream",
          "name": "stdout",
          "text": [
            "[0. 0. 0. 0. 1. 0. 0. 0. 0. 0.]\n"
          ]
        }
      ],
      "source": [
        "b = np.zeros(10)\n",
        "b[4]=1\n",
        "print(b)"
      ]
    },
    {
      "cell_type": "markdown",
      "metadata": {
        "id": "NFMqT5Se3F2Q"
      },
      "source": [
        "#### 7.  Create a vector with values ranging from 10 to 49 (★☆☆) \n",
        "(**hint**: np.arange)"
      ]
    },
    {
      "cell_type": "code",
      "execution_count": null,
      "metadata": {
        "colab": {
          "base_uri": "https://localhost:8080/"
        },
        "id": "KaKzS-rR3F2R",
        "outputId": "68ae6851-b0b6-4a51-b03f-70ad538fd131"
      },
      "outputs": [
        {
          "output_type": "stream",
          "name": "stdout",
          "text": [
            "[10 11 12 13 14 15 16 17 18 19 20 21 22 23 24 25 26 27 28 29 30 31 32 33\n",
            " 34 35 36 37 38 39 40 41 42 43 44 45 46 47 48 49]\n"
          ]
        }
      ],
      "source": [
        "c = np.arange(10,50)\n",
        "print(c)"
      ]
    },
    {
      "cell_type": "markdown",
      "metadata": {
        "id": "ZOc9PqYt3F2R"
      },
      "source": [
        "#### 8.  Reverse a vector (first element becomes last) (★☆☆) \n",
        "(**hint**: array\\[::-1\\])"
      ]
    },
    {
      "cell_type": "code",
      "execution_count": null,
      "metadata": {
        "colab": {
          "base_uri": "https://localhost:8080/"
        },
        "id": "o7NSIPoK3F2R",
        "outputId": "a0cb364b-2e70-42a1-b9db-8442046b657b"
      },
      "outputs": [
        {
          "output_type": "stream",
          "name": "stdout",
          "text": [
            "[49 48 47 46 45 44 43 42 41 40 39 38 37 36 35 34 33 32 31 30 29 28 27 26\n",
            " 25 24 23 22 21 20 19 18 17 16 15 14 13 12 11 10]\n"
          ]
        }
      ],
      "source": [
        "print(c[::-1])"
      ]
    },
    {
      "cell_type": "markdown",
      "metadata": {
        "id": "Px8yCYQp3F2S"
      },
      "source": [
        "#### 9.  Create a 3x3 matrix with values ranging from 0 to 8 (★☆☆) \n",
        "(**hint**: reshape)"
      ]
    },
    {
      "cell_type": "code",
      "execution_count": null,
      "metadata": {
        "colab": {
          "base_uri": "https://localhost:8080/"
        },
        "id": "8SPH_DpZ3F2S",
        "outputId": "57f84be5-518c-41ad-9b2d-196e372d6f66"
      },
      "outputs": [
        {
          "output_type": "stream",
          "name": "stdout",
          "text": [
            "[[0 1 2]\n",
            " [3 4 5]\n",
            " [6 7 8]]\n"
          ]
        }
      ],
      "source": [
        "matrix = np.arange(9).reshape(3,3)\n",
        "print(matrix)"
      ]
    },
    {
      "cell_type": "markdown",
      "metadata": {
        "id": "2Bg6yfBd3F2S"
      },
      "source": [
        "#### 10. Find indices of non-zero elements from \\[1,2,0,0,4,0\\] (★☆☆) \n",
        "(**hint**: np.nonzero)"
      ]
    },
    {
      "cell_type": "code",
      "execution_count": null,
      "metadata": {
        "colab": {
          "base_uri": "https://localhost:8080/"
        },
        "id": "9xyV64d33F2S",
        "outputId": "72104905-19bf-4c81-d75a-068688c27a79"
      },
      "outputs": [
        {
          "output_type": "stream",
          "name": "stdout",
          "text": [
            "(array([0, 1, 4]),)\n"
          ]
        }
      ],
      "source": [
        "d = np.array([1,2,0,0,4,0])\n",
        "print(np.nonzero(d))"
      ]
    },
    {
      "cell_type": "markdown",
      "metadata": {
        "id": "4wk1aquo3F2T"
      },
      "source": [
        "#### 11. Create a 3x3 identity matrix (★☆☆) \n",
        "(**hint**: np.eye)"
      ]
    },
    {
      "cell_type": "code",
      "execution_count": null,
      "metadata": {
        "colab": {
          "base_uri": "https://localhost:8080/"
        },
        "id": "GShkj9D-3F2T",
        "outputId": "6f90c1c8-0c4d-4486-8e0d-dd089f6f0260"
      },
      "outputs": [
        {
          "output_type": "stream",
          "name": "stdout",
          "text": [
            "[[1. 0. 0.]\n",
            " [0. 1. 0.]\n",
            " [0. 0. 1.]]\n"
          ]
        }
      ],
      "source": [
        "I = np.eye(3)\n",
        "print(I)"
      ]
    },
    {
      "cell_type": "markdown",
      "metadata": {
        "id": "bZxPTblH3F2T"
      },
      "source": [
        "#### 12. Create a 3x3x3 array with random values (★☆☆) \n",
        "(**hint**: np.random.random)"
      ]
    },
    {
      "cell_type": "code",
      "execution_count": null,
      "metadata": {
        "colab": {
          "base_uri": "https://localhost:8080/"
        },
        "id": "17d2TYT33F2T",
        "outputId": "f1fe5b3b-8439-4d65-e498-5420e6688a0b"
      },
      "outputs": [
        {
          "output_type": "stream",
          "name": "stdout",
          "text": [
            "[[[0.7169736  0.7511267  0.84063096]\n",
            "  [0.0374614  0.65806811 0.01710348]\n",
            "  [0.96947066 0.5796255  0.36822377]]\n",
            "\n",
            " [[0.81654461 0.1054193  0.52502094]\n",
            "  [0.27529079 0.86819245 0.7266741 ]\n",
            "  [0.55608562 0.86181911 0.24762763]]\n",
            "\n",
            " [[0.8335964  0.57051302 0.07498996]\n",
            "  [0.59753235 0.64550221 0.90579946]\n",
            "  [0.20295681 0.16084959 0.47798361]]]\n"
          ]
        }
      ],
      "source": [
        "R = np.random.random((3,3,3))\n",
        "print(R)\n"
      ]
    },
    {
      "cell_type": "markdown",
      "metadata": {
        "id": "Mis2Ugfp3F2T"
      },
      "source": [
        "#### 13. Create a 10x10 array with random values and find the minimum and maximum values (★☆☆) \n",
        "(**hint**: min, max)"
      ]
    },
    {
      "cell_type": "code",
      "execution_count": null,
      "metadata": {
        "colab": {
          "base_uri": "https://localhost:8080/"
        },
        "id": "0ffP54c_3F2U",
        "outputId": "405ec054-d613-4980-daae-9f12b1c11f21"
      },
      "outputs": [
        {
          "output_type": "stream",
          "name": "stdout",
          "text": [
            "0.003392820651379913\n",
            "0.9905032864067825\n"
          ]
        }
      ],
      "source": [
        "arr = np.random.rand(10,10)\n",
        "min = arr.min()\n",
        "max = arr.max()\n",
        "print(min)\n",
        "print(max)"
      ]
    },
    {
      "cell_type": "markdown",
      "metadata": {
        "id": "cTJmVo5H3F2U"
      },
      "source": [
        "#### 14. Create a random vector of size 30 and find the mean value (★☆☆) \n",
        "(**hint**: mean)"
      ]
    },
    {
      "cell_type": "code",
      "execution_count": null,
      "metadata": {
        "colab": {
          "base_uri": "https://localhost:8080/"
        },
        "id": "1h39VumC3F2U",
        "outputId": "f514a251-f3df-4cae-9bc1-c81a7cf427ef"
      },
      "outputs": [
        {
          "output_type": "stream",
          "name": "stdout",
          "text": [
            "0.43105861615246915\n"
          ]
        }
      ],
      "source": [
        "array = np.random.rand(30)\n",
        "print(array.mean())"
      ]
    },
    {
      "cell_type": "markdown",
      "metadata": {
        "id": "6JpcGqkr3F2U"
      },
      "source": [
        "#### 15. Create a 2d array with 1 on the border and 0 inside (★☆☆) \n",
        "(**hint**: array\\[1:-1, 1:-1\\])"
      ]
    },
    {
      "cell_type": "code",
      "execution_count": null,
      "metadata": {
        "colab": {
          "base_uri": "https://localhost:8080/"
        },
        "id": "lgyeiB9n3F2U",
        "outputId": "f3297004-bb31-4d14-d1b8-f6f9da86ccd2"
      },
      "outputs": [
        {
          "output_type": "stream",
          "name": "stdout",
          "text": [
            "[[1. 1. 1. 1. 1. 1. 1. 1. 1. 1.]\n",
            " [1. 0. 0. 0. 0. 0. 0. 0. 0. 1.]\n",
            " [1. 0. 0. 0. 0. 0. 0. 0. 0. 1.]\n",
            " [1. 0. 0. 0. 0. 0. 0. 0. 0. 1.]\n",
            " [1. 0. 0. 0. 0. 0. 0. 0. 0. 1.]\n",
            " [1. 0. 0. 0. 0. 0. 0. 0. 0. 1.]\n",
            " [1. 0. 0. 0. 0. 0. 0. 0. 0. 1.]\n",
            " [1. 0. 0. 0. 0. 0. 0. 0. 0. 1.]\n",
            " [1. 0. 0. 0. 0. 0. 0. 0. 0. 1.]\n",
            " [1. 1. 1. 1. 1. 1. 1. 1. 1. 1.]]\n"
          ]
        }
      ],
      "source": [
        "ar = np.ones((10,10))\n",
        "ar[1:-1,1:-1] = 0\n",
        "print(ar)"
      ]
    },
    {
      "cell_type": "markdown",
      "metadata": {
        "id": "TwGtezFy3F2V"
      },
      "source": [
        "#### 16. How to add a border (filled with 0's) around an existing array? (★☆☆) \n",
        "(**hint**: np.pad)"
      ]
    },
    {
      "cell_type": "code",
      "execution_count": null,
      "metadata": {
        "colab": {
          "base_uri": "https://localhost:8080/"
        },
        "id": "dOGcnrHh3F2V",
        "outputId": "4887e54a-464f-443a-e6f0-7a58be2ac4dc"
      },
      "outputs": [
        {
          "output_type": "stream",
          "name": "stdout",
          "text": [
            "[[1. 1.]\n",
            " [1. 1.]]\n",
            "[[0. 0. 0. 0.]\n",
            " [0. 1. 1. 0.]\n",
            " [0. 1. 1. 0.]\n",
            " [0. 0. 0. 0.]]\n"
          ]
        }
      ],
      "source": [
        "from numpy.lib.arraypad import pad\n",
        "x = np.ones((2,2))\n",
        "print(x)\n",
        "x = np.pad(x, pad_width=1, mode = 'constant', constant_values = 0)\n",
        "print(x)"
      ]
    },
    {
      "cell_type": "markdown",
      "metadata": {
        "id": "Q9o4bip_3F2V"
      },
      "source": [
        "#### 17. What is the result of the following expression? (★☆☆) \n",
        "(**hint**: NaN = not a number, inf = infinity)"
      ]
    },
    {
      "cell_type": "markdown",
      "metadata": {
        "id": "OLai9cCk3F2V"
      },
      "source": [
        "```python\n",
        "0 * np.nan\n",
        "np.nan == np.nan\n",
        "np.inf > np.nan\n",
        "np.nan - np.nan\n",
        "0.3 == 3 * 0.1\n",
        "```"
      ]
    },
    {
      "cell_type": "code",
      "execution_count": 13,
      "metadata": {
        "colab": {
          "base_uri": "https://localhost:8080/"
        },
        "id": "n6y6xXc13F2V",
        "outputId": "eb815641-eaf1-4f91-ccd8-4545b8be9ba0"
      },
      "outputs": [
        {
          "output_type": "stream",
          "name": "stdout",
          "text": [
            "nan\n",
            "False\n",
            "False\n",
            "nan\n",
            "True\n",
            "False\n"
          ]
        }
      ],
      "source": [
        "print(0 * np.nan)\n",
        "print(np.nan == np.nan)\n",
        "print(np.inf > np.nan)\n",
        "print(np.nan - np.nan)\n",
        "print(np.nan in set([np.nan]))\n",
        "print(0.3 == 3 * 0.1)"
      ]
    },
    {
      "cell_type": "markdown",
      "metadata": {
        "id": "1lKa_q4E3F2W"
      },
      "source": [
        "#### 18. Create a 5x5 matrix with values 1,2,3,4 just below the diagonal (★☆☆) \n",
        "(**hint**: np.diag)"
      ]
    },
    {
      "cell_type": "code",
      "execution_count": null,
      "metadata": {
        "id": "tPGdfD3u3F2W",
        "colab": {
          "base_uri": "https://localhost:8080/"
        },
        "outputId": "654b6697-ff92-4373-c4dc-35ff56ef250f"
      },
      "outputs": [
        {
          "output_type": "stream",
          "name": "stdout",
          "text": [
            "[[0 0 0 0 0]\n",
            " [1 0 0 0 0]\n",
            " [0 2 0 0 0]\n",
            " [0 0 3 0 0]\n",
            " [0 0 0 4 0]]\n"
          ]
        }
      ],
      "source": [
        "a1 = np.diag(np.arange(4)+1,k =-1)\n",
        "print(a1)"
      ]
    },
    {
      "cell_type": "markdown",
      "source": [
        ""
      ],
      "metadata": {
        "id": "x0v1zDhDQI7F"
      }
    },
    {
      "cell_type": "markdown",
      "metadata": {
        "id": "krvbR1mw3F2W"
      },
      "source": [
        "#### 19. Create a 8x8 matrix and fill it with a checkerboard pattern (★☆☆) \n",
        "(**hint**: array\\[::2\\])"
      ]
    },
    {
      "cell_type": "code",
      "execution_count": null,
      "metadata": {
        "id": "1hKQ4scQ3F2W",
        "colab": {
          "base_uri": "https://localhost:8080/"
        },
        "outputId": "9d31c67a-8239-49b8-84b0-a709a6c0a3cb"
      },
      "outputs": [
        {
          "output_type": "stream",
          "name": "stdout",
          "text": [
            "[[0 1 0 1 0 1 0 1]\n",
            " [1 0 1 0 1 0 1 0]\n",
            " [0 1 0 1 0 1 0 1]\n",
            " [1 0 1 0 1 0 1 0]\n",
            " [0 1 0 1 0 1 0 1]\n",
            " [1 0 1 0 1 0 1 0]\n",
            " [0 1 0 1 0 1 0 1]\n",
            " [1 0 1 0 1 0 1 0]]\n"
          ]
        }
      ],
      "source": [
        "a2 = np.zeros((8,8),dtype = int)\n",
        "a2[1::2,::2] = 1\n",
        "a2[::2,1::2] = 1\n",
        "print(a2)"
      ]
    },
    {
      "cell_type": "markdown",
      "metadata": {
        "id": "8KeZZMW73F2W"
      },
      "source": [
        "#### 20. Consider a (6,7,8) shape array, what is the index (x,y,z) of the 100th element? \n",
        "(**hint**: np.unravel_index)"
      ]
    },
    {
      "cell_type": "code",
      "execution_count": null,
      "metadata": {
        "id": "wCI8z8173F2X",
        "colab": {
          "base_uri": "https://localhost:8080/"
        },
        "outputId": "b06b8a45-2b33-4458-8ee5-ae0f26c28dc7"
      },
      "outputs": [
        {
          "output_type": "stream",
          "name": "stdout",
          "text": [
            "(1, 5, 4)\n"
          ]
        }
      ],
      "source": [
        "print(np.unravel_index(100,(6,7,8)))"
      ]
    },
    {
      "cell_type": "markdown",
      "metadata": {
        "id": "ObP9beQa3F2X"
      },
      "source": [
        "#### 21. Create a checkerboard 8x8 matrix using the tile function (★☆☆) \n",
        "(**hint**: np.tile)"
      ]
    },
    {
      "cell_type": "code",
      "execution_count": null,
      "metadata": {
        "id": "KdjuBBe83F2X",
        "colab": {
          "base_uri": "https://localhost:8080/"
        },
        "outputId": "61ddd355-a1ad-4810-e1c5-e9359b081bfb"
      },
      "outputs": [
        {
          "output_type": "stream",
          "name": "stdout",
          "text": [
            "[[0 1 0 1 0 1 0 1]\n",
            " [1 0 1 0 1 0 1 0]\n",
            " [0 1 0 1 0 1 0 1]\n",
            " [1 0 1 0 1 0 1 0]\n",
            " [0 1 0 1 0 1 0 1]\n",
            " [1 0 1 0 1 0 1 0]\n",
            " [0 1 0 1 0 1 0 1]\n",
            " [1 0 1 0 1 0 1 0]]\n"
          ]
        }
      ],
      "source": [
        "Arr = np.tile(np.array([[0,1],[1,0]]),(4,4))\n",
        "print(Arr)"
      ]
    },
    {
      "cell_type": "markdown",
      "metadata": {
        "id": "r7qN8imL3F2X"
      },
      "source": [
        "#### 22. Normalize a 5x5 random matrix (★☆☆) \n",
        "(**hint**: (x - min) / (max - min))"
      ]
    },
    {
      "cell_type": "code",
      "execution_count": null,
      "metadata": {
        "id": "Pr1oZ_uZ3F2X",
        "colab": {
          "base_uri": "https://localhost:8080/"
        },
        "outputId": "1cccf161-11d1-45e3-94e5-e72dc692ce60"
      },
      "outputs": [
        {
          "output_type": "stream",
          "name": "stdout",
          "text": [
            "[[0.22610208 0.03300336 0.40184159 0.77448496 0.23001503]\n",
            " [0.01739095 0.02706952 0.93474853 1.         0.53293735]\n",
            " [0.30913627 0.75578133 0.4713563  0.75883266 0.09188724]\n",
            " [0.1163055  0.29502548 0.76375533 0.3755916  0.07534089]\n",
            " [0.         0.38204108 0.21206474 0.73758151 0.40765189]]\n"
          ]
        }
      ],
      "source": [
        "N = np.random.rand(5,5)\n",
        "max = N.max()\n",
        "min = N.min()\n",
        "N1 = (N-min)/(max-min)\n",
        "print(N1)"
      ]
    },
    {
      "cell_type": "markdown",
      "metadata": {
        "id": "bJ9BpXli3F2X"
      },
      "source": [
        "#### 23. Create a custom dtype that describes a color as four unsigned bytes (RGBA) (★☆☆) \n",
        "(**hint**: np.dtype)"
      ]
    },
    {
      "cell_type": "code",
      "execution_count": 5,
      "metadata": {
        "collapsed": true,
        "id": "dkT8C1VP3F2Y",
        "colab": {
          "base_uri": "https://localhost:8080/"
        },
        "outputId": "91811656-d1fc-4935-8649-6a0723ba32d9"
      },
      "outputs": [
        {
          "output_type": "stream",
          "name": "stderr",
          "text": [
            "/usr/local/lib/python3.7/dist-packages/ipykernel_launcher.py:4: FutureWarning: Passing (type, 1) or '1type' as a synonym of type is deprecated; in a future version of numpy, it will be understood as (type, (1,)) / '(1,)type'.\n",
            "  after removing the cwd from sys.path.\n"
          ]
        }
      ],
      "source": [
        "color = np.dtype([(\"r\", np.ubyte, 1),\n",
        "                  (\"g\", np.ubyte, 1),\n",
        "                  (\"b\", np.ubyte, 1),\n",
        "                  (\"a\", np.ubyte, 1)])"
      ]
    },
    {
      "cell_type": "markdown",
      "metadata": {
        "id": "_SjAYMAo3F2Y"
      },
      "source": [
        "#### 24. Multiply a 5x3 matrix by a 3x2 matrix (real matrix product) (★☆☆) \n",
        "(**hint**: np.dot | @)"
      ]
    },
    {
      "cell_type": "code",
      "execution_count": 8,
      "metadata": {
        "id": "QXRcE4mm3F2Y",
        "colab": {
          "base_uri": "https://localhost:8080/"
        },
        "outputId": "209abb8d-3741-4e67-f55d-47ef13630b7f"
      },
      "outputs": [
        {
          "output_type": "stream",
          "name": "stdout",
          "text": [
            "[[3. 3.]\n",
            " [3. 3.]\n",
            " [3. 3.]\n",
            " [3. 3.]\n",
            " [3. 3.]]\n",
            "[[3. 3.]\n",
            " [3. 3.]\n",
            " [3. 3.]\n",
            " [3. 3.]\n",
            " [3. 3.]]\n"
          ]
        }
      ],
      "source": [
        "np.MachAr = np.dot(np.ones((5,3)), np.ones((3,2)))\n",
        "print(M)\n",
        "\n",
        "# Alternative solution, in Python 3.5 and above\n",
        "M = np.ones((5,3)) @ np.ones((3,2))\n",
        "print(M)"
      ]
    },
    {
      "cell_type": "markdown",
      "metadata": {
        "id": "KNr7iHSk3F2Y"
      },
      "source": [
        "#### 25. Given a 1D array, negate all elements which are between 3 and 8, in place. (★☆☆) \n",
        "(**hint**: >, <=)"
      ]
    },
    {
      "cell_type": "code",
      "execution_count": 12,
      "metadata": {
        "id": "Aj2JPk_G3F2Y",
        "colab": {
          "base_uri": "https://localhost:8080/"
        },
        "outputId": "88616db5-3e9e-4bae-bcfa-7032e15deb2f"
      },
      "outputs": [
        {
          "output_type": "stream",
          "name": "stdout",
          "text": [
            "[ 0  1  2  3 -4 -5 -6 -7  8  9 10]\n"
          ]
        }
      ],
      "source": [
        "Z = np.arange(11)\n",
        "Z[(3 < Z) & (Z <8)] *= -1\n",
        "print(Z)"
      ]
    },
    {
      "cell_type": "markdown",
      "metadata": {
        "id": "eZNN3igG3F2Y"
      },
      "source": [
        "#### 26. What is the output of the following script? (★☆☆) \n",
        "(**hint**: np.sum)"
      ]
    },
    {
      "cell_type": "markdown",
      "metadata": {
        "id": "nLpZsJ_n3F2Z"
      },
      "source": [
        "```python\n",
        "# Author: Jake VanderPlas\n",
        "\n",
        "print(sum(range(5),-1))\n",
        "from numpy import *\n",
        "print(sum(range(5),-1))\n",
        "```"
      ]
    },
    {
      "cell_type": "code",
      "execution_count": 14,
      "metadata": {
        "id": "fSDD8jjZ3F2Z",
        "colab": {
          "base_uri": "https://localhost:8080/"
        },
        "outputId": "a90022c3-3f65-4a8e-f68a-242fe6cf2b2e"
      },
      "outputs": [
        {
          "output_type": "stream",
          "name": "stdout",
          "text": [
            "9\n",
            "10\n"
          ]
        }
      ],
      "source": [
        "print(sum(range(5),-1))\n",
        "from numpy import *\n",
        "print(sum(range(5),-1))"
      ]
    },
    {
      "cell_type": "markdown",
      "metadata": {
        "id": "23tWS-Ft3F2Z"
      },
      "source": [
        "#### 27. Consider an integer vector Z, which of these expressions are legal? (★☆☆)"
      ]
    },
    {
      "cell_type": "markdown",
      "metadata": {
        "id": "rMd2flPP3F2a"
      },
      "source": [
        "```python\n",
        "Z**Z\n",
        "2 << Z >> 2\n",
        "Z <- Z\n",
        "1j*Z\n",
        "Z/1/1\n",
        "Z<Z>Z\n",
        "```"
      ]
    },
    {
      "cell_type": "code",
      "execution_count": 21,
      "metadata": {
        "id": "hnFbxDfj3F2a",
        "colab": {
          "base_uri": "https://localhost:8080/"
        },
        "outputId": "09dfcb76-8b3a-4fb2-c859-de0f882ab64f"
      },
      "outputs": [
        {
          "output_type": "stream",
          "name": "stdout",
          "text": [
            "[        1         1         4        27       256      3125     46656\n",
            "    823543  16777216 387420489]\n",
            "[  0   1   2   4   8  16  32  64 128 256]\n",
            "[False False False False False False False False False False]\n",
            "[0.+0.j 0.+1.j 0.+2.j 0.+3.j 0.+4.j 0.+5.j 0.+6.j 0.+7.j 0.+8.j 0.+9.j]\n",
            "[0. 1. 2. 3. 4. 5. 6. 7. 8. 9.]\n"
          ]
        }
      ],
      "source": [
        "y=np.arange(10)\n",
        "print(z**z)\n",
        "print(2 << z >> 2)\n",
        "print(z <- z)\n",
        "print(1j*z)\n",
        "print(z/1/1)"
      ]
    },
    {
      "cell_type": "markdown",
      "metadata": {
        "id": "wjp0J8Uh3F2a"
      },
      "source": [
        "#### 28. What are the result of the following expressions?"
      ]
    },
    {
      "cell_type": "markdown",
      "metadata": {
        "id": "DJu3Wqvv3F2a"
      },
      "source": [
        "```python\n",
        "np.array(0) / np.array(0)\n",
        "np.array(0) // np.array(0)\n",
        "np.array([np.nan]).astype(int).astype(float)\n",
        "```"
      ]
    },
    {
      "cell_type": "code",
      "execution_count": 18,
      "metadata": {
        "id": "El7qssiE3F2b",
        "colab": {
          "base_uri": "https://localhost:8080/"
        },
        "outputId": "09573f71-44f1-4795-dd39-ccfc41bf7903"
      },
      "outputs": [
        {
          "output_type": "stream",
          "name": "stdout",
          "text": [
            "nan\n",
            "0\n",
            "[-9.22337204e+18]\n"
          ]
        },
        {
          "output_type": "stream",
          "name": "stderr",
          "text": [
            "/usr/local/lib/python3.7/dist-packages/ipykernel_launcher.py:1: RuntimeWarning: invalid value encountered in true_divide\n",
            "  \"\"\"Entry point for launching an IPython kernel.\n",
            "/usr/local/lib/python3.7/dist-packages/ipykernel_launcher.py:2: RuntimeWarning: divide by zero encountered in floor_divide\n",
            "  \n"
          ]
        }
      ],
      "source": [
        "print(np.array(0) / np.array(0))\n",
        "print(np.array(0) // np.array(0))\n",
        "print(np.array([np.nan]).astype(int).astype(float))"
      ]
    },
    {
      "cell_type": "markdown",
      "metadata": {
        "id": "ctCf6vZt3F2b"
      },
      "source": [
        "#### 29. How to round away from zero a float array ? (★☆☆) \n",
        "(**hint**: np.uniform, np.copysign, np.ceil, np.abs)"
      ]
    },
    {
      "cell_type": "code",
      "execution_count": 20,
      "metadata": {
        "id": "KNaNXdzN3F2b",
        "colab": {
          "base_uri": "https://localhost:8080/"
        },
        "outputId": "cecc9de0-6407-4322-fcb2-58d59bb567e8"
      },
      "outputs": [
        {
          "output_type": "stream",
          "name": "stdout",
          "text": [
            "[ 2.  2. -8. -6.  8.  6. -4. -7. -5.  1.]\n"
          ]
        }
      ],
      "source": [
        "x = np.random.uniform(-10,+10,10)\n",
        "print (np.copysign(np.ceil(np.abs(x)), x))"
      ]
    },
    {
      "cell_type": "markdown",
      "metadata": {
        "id": "QPHdQ4YQ3F2b"
      },
      "source": [
        "#### 30. How to find common values between two arrays? (★☆☆) \n",
        "(**hint**: np.intersect1d)"
      ]
    },
    {
      "cell_type": "code",
      "execution_count": 23,
      "metadata": {
        "id": "_XJ2S-eb3F2b",
        "colab": {
          "base_uri": "https://localhost:8080/"
        },
        "outputId": "2c2df279-b340-4ba6-ee8a-ed3d3f4db0f9"
      },
      "outputs": [
        {
          "output_type": "stream",
          "name": "stdout",
          "text": [
            "[1 3 7 8]\n"
          ]
        }
      ],
      "source": [
        "a1 = np.random.randint(0,10,10)\n",
        "a2 = np.random.randint(0,10,10)\n",
        "print(np.intersect1d(a1,a2))"
      ]
    },
    {
      "cell_type": "markdown",
      "metadata": {
        "id": "OU-qlBbG3F2c"
      },
      "source": [
        "#### 31. How to ignore all numpy warnings (not recommended)? (★☆☆) \n",
        "(**hint**: np.seterr, np.errstate)"
      ]
    },
    {
      "cell_type": "code",
      "execution_count": 24,
      "metadata": {
        "id": "3BrE5S5v3F2c"
      },
      "outputs": [],
      "source": [
        "defaults = np.seterr(all=\"ignore\")\n",
        "v = np.ones(1) / 0\n",
        "_ = np.seterr(**defaults)"
      ]
    },
    {
      "cell_type": "markdown",
      "metadata": {
        "id": "jjkpG3-c3F2c"
      },
      "source": [
        "#### 32. Is the following expressions true? (★☆☆) \n",
        "(**hint**: imaginary number)"
      ]
    },
    {
      "cell_type": "markdown",
      "metadata": {
        "id": "LbnZj6oJ3F2d"
      },
      "source": [
        "```python\n",
        "np.sqrt(-1) == np.emath.sqrt(-1)\n",
        "```"
      ]
    },
    {
      "cell_type": "code",
      "execution_count": 27,
      "metadata": {
        "id": "RO7anfrN3F2d",
        "colab": {
          "base_uri": "https://localhost:8080/"
        },
        "outputId": "5cd31867-e431-4b73-afdd-d1e8b5965303"
      },
      "outputs": [
        {
          "output_type": "stream",
          "name": "stdout",
          "text": [
            "False\n",
            "nan\n",
            "1j\n"
          ]
        },
        {
          "output_type": "stream",
          "name": "stderr",
          "text": [
            "/usr/local/lib/python3.7/dist-packages/ipykernel_launcher.py:1: RuntimeWarning: invalid value encountered in sqrt\n",
            "  \"\"\"Entry point for launching an IPython kernel.\n",
            "/usr/local/lib/python3.7/dist-packages/ipykernel_launcher.py:2: RuntimeWarning: invalid value encountered in sqrt\n",
            "  \n"
          ]
        }
      ],
      "source": [
        "print(np.sqrt(-1) == np.emath.sqrt(-1))\n",
        "print(np.sqrt(-1))\n",
        "print(np.emath.sqrt(-1))\n",
        "#False"
      ]
    },
    {
      "cell_type": "markdown",
      "metadata": {
        "id": "dizd442q3F2d"
      },
      "source": [
        "#### 33. How to get the dates of yesterday, today and tomorrow? (★☆☆) \n",
        "(**hint**: np.datetime64, np.timedelta64)"
      ]
    },
    {
      "cell_type": "code",
      "execution_count": 29,
      "metadata": {
        "collapsed": true,
        "id": "uH6V7eeT3F2d",
        "colab": {
          "base_uri": "https://localhost:8080/"
        },
        "outputId": "7398d4ff-1983-4173-9850-ea5fbadc47c6"
      },
      "outputs": [
        {
          "output_type": "stream",
          "name": "stdout",
          "text": [
            "2022-04-07\n",
            "2022-04-08\n",
            "2022-04-09\n"
          ]
        }
      ],
      "source": [
        "yesterday = np.datetime64('today', 'D') - np.timedelta64(1, 'D')\n",
        "today     = np.datetime64('today', 'D')\n",
        "tomorrow  = np.datetime64('today', 'D') + np.timedelta64(1, 'D')\n",
        "print(yesterday)\n",
        "print(today)\n",
        "print(tomorrow)"
      ]
    },
    {
      "cell_type": "markdown",
      "metadata": {
        "id": "lSSiYZXy3F2d"
      },
      "source": [
        "#### 34. How to get all the dates corresponding to the month of July 2016? (★★☆) \n",
        "(**hint**: np.arange(dtype=datetime64\\['D'\\]))"
      ]
    },
    {
      "cell_type": "code",
      "execution_count": 31,
      "metadata": {
        "id": "mxtpVNPR3F2e",
        "colab": {
          "base_uri": "https://localhost:8080/"
        },
        "outputId": "6ff62856-82df-4d3f-ada6-cac3edb278b9"
      },
      "outputs": [
        {
          "output_type": "stream",
          "name": "stdout",
          "text": [
            "['2016-07-01' '2016-07-02' '2016-07-03' '2016-07-04' '2016-07-05'\n",
            " '2016-07-06' '2016-07-07' '2016-07-08' '2016-07-09' '2016-07-10'\n",
            " '2016-07-11' '2016-07-12' '2016-07-13' '2016-07-14' '2016-07-15'\n",
            " '2016-07-16' '2016-07-17' '2016-07-18' '2016-07-19' '2016-07-20'\n",
            " '2016-07-21' '2016-07-22' '2016-07-23' '2016-07-24' '2016-07-25'\n",
            " '2016-07-26' '2016-07-27' '2016-07-28' '2016-07-29' '2016-07-30'\n",
            " '2016-07-31']\n"
          ]
        }
      ],
      "source": [
        "July = np.arange('2016-07', '2016-08', dtype='datetime64[D]')\n",
        "print(July)"
      ]
    },
    {
      "cell_type": "markdown",
      "metadata": {
        "id": "-Uim1jFF3F2e"
      },
      "source": [
        "#### 35. How to compute ((A+B)\\*(-A/2)) in place (without copy)? (★★☆) \n",
        "(**hint**: np.add(out=), np.negative(out=), np.multiply(out=), np.divide(out=))"
      ]
    },
    {
      "cell_type": "code",
      "execution_count": 34,
      "metadata": {
        "id": "95TigFXs3F2e",
        "colab": {
          "base_uri": "https://localhost:8080/"
        },
        "outputId": "5e6627c9-1c61-41d4-c101-84ee222af2f1"
      },
      "outputs": [
        {
          "output_type": "stream",
          "name": "stdout",
          "text": [
            "[-90.  -6. -18.]\n"
          ]
        }
      ],
      "source": [
        "A = np.array([12,2,4])\n",
        "B = np.array([3,4,5])\n",
        "B = np.add(A,B)\n",
        "A = np.divide(A,2)\n",
        "A = np.negative(A)\n",
        "A = np.multiply(A,B)\n",
        "print(A)"
      ]
    },
    {
      "cell_type": "markdown",
      "metadata": {
        "id": "ABoP2pI53F2e"
      },
      "source": [
        "#### 36. Extract the integer part of a random array using 5 different methods (★★☆) \n",
        "(**hint**: %, np.floor, np.ceil, astype, np.trunc)"
      ]
    },
    {
      "cell_type": "code",
      "execution_count": 36,
      "metadata": {
        "id": "8Zls1hEZ3F2e",
        "colab": {
          "base_uri": "https://localhost:8080/"
        },
        "outputId": "d928cfcf-aa47-414f-f6ba-20bd0530b592"
      },
      "outputs": [
        {
          "output_type": "stream",
          "name": "stdout",
          "text": [
            "[3. 1. 3. 9. 5. 0. 4. 2. 5. 5.]\n",
            "[3. 1. 3. 9. 5. 0. 4. 2. 5. 5.]\n",
            "[3. 1. 3. 9. 5. 0. 4. 2. 5. 5.]\n",
            "[3 1 3 9 5 0 4 2 5 5]\n",
            "[3. 1. 3. 9. 5. 0. 4. 2. 5. 5.]\n"
          ]
        }
      ],
      "source": [
        "I = np.random.uniform(0,10,10)\n",
        "\n",
        "print(I - I%1)\n",
        "print(np.floor(I))\n",
        "print(np.ceil(I)-1)\n",
        "print(I.astype(int))\n",
        "print(np.trunc(I))"
      ]
    },
    {
      "cell_type": "markdown",
      "metadata": {
        "id": "zjc6eduB3F2e"
      },
      "source": [
        "#### 37. Create a 5x5 matrix with row values ranging from 0 to 4 (★★☆) \n",
        "(**hint**: np.arange)"
      ]
    },
    {
      "cell_type": "code",
      "execution_count": 38,
      "metadata": {
        "id": "RDcDstWY3F2f",
        "colab": {
          "base_uri": "https://localhost:8080/"
        },
        "outputId": "70236e2c-0670-4b9b-e6b0-01a8d878523a"
      },
      "outputs": [
        {
          "output_type": "stream",
          "name": "stdout",
          "text": [
            "[[0. 1. 2. 3. 4.]\n",
            " [0. 1. 2. 3. 4.]\n",
            " [0. 1. 2. 3. 4.]\n",
            " [0. 1. 2. 3. 4.]\n",
            " [0. 1. 2. 3. 4.]]\n"
          ]
        }
      ],
      "source": [
        "x1 = np.zeros((5,5))\n",
        "x1 += np.arange(5)\n",
        "print(x1)"
      ]
    },
    {
      "cell_type": "markdown",
      "metadata": {
        "id": "JRnLO8os3F2f"
      },
      "source": [
        "#### 38. Consider a generator function that generates 10 integers and use it to build an array (★☆☆) \n",
        "(**hint**: np.fromiter)"
      ]
    },
    {
      "cell_type": "code",
      "execution_count": 39,
      "metadata": {
        "id": "Pk2utQHt3F2f",
        "colab": {
          "base_uri": "https://localhost:8080/"
        },
        "outputId": "b78e8281-3353-481c-81e0-f60f60c6631d"
      },
      "outputs": [
        {
          "output_type": "stream",
          "name": "stdout",
          "text": [
            "[0. 1. 2. 3. 4. 5. 6. 7. 8. 9.]\n"
          ]
        }
      ],
      "source": [
        "def generate():\n",
        "    for i in range(10):\n",
        "        yield i\n",
        "a = np.fromiter(generate(),dtype=float,count=-1)\n",
        "print(a)"
      ]
    },
    {
      "cell_type": "markdown",
      "metadata": {
        "id": "C4LHtxoL3F2f"
      },
      "source": [
        "#### 39. Create a vector of size 10 with values ranging from 0 to 1, both excluded (★★☆) \n",
        "(**hint**: np.linspace)"
      ]
    },
    {
      "cell_type": "code",
      "execution_count": 41,
      "metadata": {
        "id": "cBLs9WFa3F2f",
        "colab": {
          "base_uri": "https://localhost:8080/"
        },
        "outputId": "ac64d4fd-12d3-48b5-cc39-da178a7e89b8"
      },
      "outputs": [
        {
          "output_type": "stream",
          "name": "stdout",
          "text": [
            "[0.09090909 0.18181818 0.27272727 0.36363636 0.45454545 0.54545455\n",
            " 0.63636364 0.72727273 0.81818182 0.90909091]\n"
          ]
        }
      ],
      "source": [
        "b = np.linspace(0,1,11,endpoint=False)[1:]\n",
        "print(b)"
      ]
    },
    {
      "cell_type": "markdown",
      "metadata": {
        "id": "W5K05VeX3F2f"
      },
      "source": [
        "#### 40. Create a random vector of size 10 and sort it (★★☆) \n",
        "(**hint**: sort)"
      ]
    },
    {
      "cell_type": "code",
      "execution_count": 42,
      "metadata": {
        "id": "RQBcrdbW3F2f",
        "colab": {
          "base_uri": "https://localhost:8080/"
        },
        "outputId": "3e2f01cb-adca-4860-a399-bbc70a60540b"
      },
      "outputs": [
        {
          "output_type": "stream",
          "name": "stdout",
          "text": [
            "[0.02740988 0.10218969 0.20546936 0.2495341  0.24959228 0.36804112\n",
            " 0.47411611 0.4942723  0.71441965 0.97554676]\n"
          ]
        }
      ],
      "source": [
        "c = np.random.random(10)\n",
        "c.sort()\n",
        "print(c)"
      ]
    },
    {
      "cell_type": "markdown",
      "metadata": {
        "id": "Y84KotN23F2g"
      },
      "source": [
        "#### 41. How to sum a small array faster than np.sum? (★★☆) \n",
        "(**hint**: np.add.reduce)"
      ]
    },
    {
      "cell_type": "code",
      "execution_count": 44,
      "metadata": {
        "id": "ew10Cl4w3F2g",
        "colab": {
          "base_uri": "https://localhost:8080/"
        },
        "outputId": "aab24acd-e7fc-4e6c-a65e-c2a48c2fdcf8"
      },
      "outputs": [
        {
          "output_type": "execute_result",
          "data": {
            "text/plain": [
              "45"
            ]
          },
          "metadata": {},
          "execution_count": 44
        }
      ],
      "source": [
        "x = np.arange(10)\n",
        "np.add.reduce(x)"
      ]
    },
    {
      "cell_type": "markdown",
      "metadata": {
        "id": "TjdzdjyO3F2g"
      },
      "source": [
        "#### 42. Consider two random array A and B, check if they are equal (★★☆) \n",
        "(**hint**: np.allclose, np.array\\_equal)"
      ]
    },
    {
      "cell_type": "code",
      "execution_count": 48,
      "metadata": {
        "id": "_5CBrsSC3F2g",
        "colab": {
          "base_uri": "https://localhost:8080/"
        },
        "outputId": "4539ac65-3142-4edd-8ccb-fb2103583b26"
      },
      "outputs": [
        {
          "output_type": "stream",
          "name": "stdout",
          "text": [
            "False\n",
            "False\n"
          ]
        }
      ],
      "source": [
        "A = np.random.randint(0,2,5)\n",
        "B = np.random.randint(0,2,5)\n",
        "equal = np.allclose(A,B)\n",
        "print(equal)\n",
        "equal = np.array_equal(A,B)\n",
        "print(equal)"
      ]
    },
    {
      "cell_type": "markdown",
      "metadata": {
        "id": "SDaK_B1d3F2g"
      },
      "source": [
        "#### 43. Make an array immutable (read-only) (★★☆) \n",
        "(**hint**: flags.writeable)"
      ]
    },
    {
      "cell_type": "code",
      "execution_count": 53,
      "metadata": {
        "id": "KxJEoUUj3F2g"
      },
      "outputs": [],
      "source": [
        "Z = np.zeros(10)\n",
        "Z.flags.writeable = False"
      ]
    },
    {
      "cell_type": "markdown",
      "metadata": {
        "id": "CqkOsLky3F2h"
      },
      "source": [
        "#### 44. Consider a random 10x2 matrix representing cartesian coordinates, convert them to polar coordinates (★★☆) \n",
        "(**hint**: np.sqrt, np.arctan2)"
      ]
    },
    {
      "cell_type": "code",
      "execution_count": 54,
      "metadata": {
        "id": "ukvFZJfJ3F2h",
        "colab": {
          "base_uri": "https://localhost:8080/"
        },
        "outputId": "bc0f36e9-f977-4ec7-9bbe-bd80dd1a2acf"
      },
      "outputs": [
        {
          "output_type": "stream",
          "name": "stdout",
          "text": [
            "[0.48266158 0.66310794 0.50932917 0.50922597 1.00770216 1.14127602\n",
            " 0.6768309  1.01894903 1.01457618 0.8856623 ]\n",
            "[0.33519441 0.23262077 0.46848191 1.43640311 0.24848563 0.8112043\n",
            " 0.94841449 1.29711618 1.25657836 1.37410741]\n"
          ]
        }
      ],
      "source": [
        "Z = np.random.random((10,2))\n",
        "x = Z[:,0]\n",
        "y = Z[:,1]\n",
        "R = np.sqrt(x**2+y**2)\n",
        "T = np.arctan2(y,x)\n",
        "print(R)\n",
        "print(T)"
      ]
    },
    {
      "cell_type": "markdown",
      "metadata": {
        "id": "3QLGEvs53F2h"
      },
      "source": [
        "#### 45. Create random vector of size 10 and replace the maximum value by 0 (★★☆) \n",
        "(**hint**: argmax)"
      ]
    },
    {
      "cell_type": "code",
      "execution_count": 56,
      "metadata": {
        "id": "i6L1QD6m3F2h",
        "colab": {
          "base_uri": "https://localhost:8080/"
        },
        "outputId": "9f4ff4f2-1b51-410c-b969-eee6254758f8"
      },
      "outputs": [
        {
          "output_type": "stream",
          "name": "stdout",
          "text": [
            "[0.70302156 0.112414   0.76023406 0.75776551 0.57667678 0.25546241\n",
            " 0.71995221 0.60992804 0.2543633  0.        ]\n"
          ]
        }
      ],
      "source": [
        "x = np.random.random(10)\n",
        "x[x.argmax()] = 0\n",
        "print(x)"
      ]
    },
    {
      "cell_type": "markdown",
      "metadata": {
        "id": "oiLIhsZI3F2h"
      },
      "source": [
        "#### 46. Create a structured array with `x` and `y` coordinates covering the \\[0,1\\]x\\[0,1\\] area (★★☆) \n",
        "(**hint**: np.meshgrid)"
      ]
    },
    {
      "cell_type": "code",
      "execution_count": 57,
      "metadata": {
        "id": "fd845Au13F2i",
        "colab": {
          "base_uri": "https://localhost:8080/"
        },
        "outputId": "d0d3f0a6-81af-4548-cc76-ee24783f763d"
      },
      "outputs": [
        {
          "output_type": "stream",
          "name": "stdout",
          "text": [
            "[[(0.  , 0.  ) (0.25, 0.  ) (0.5 , 0.  ) (0.75, 0.  ) (1.  , 0.  )]\n",
            " [(0.  , 0.25) (0.25, 0.25) (0.5 , 0.25) (0.75, 0.25) (1.  , 0.25)]\n",
            " [(0.  , 0.5 ) (0.25, 0.5 ) (0.5 , 0.5 ) (0.75, 0.5 ) (1.  , 0.5 )]\n",
            " [(0.  , 0.75) (0.25, 0.75) (0.5 , 0.75) (0.75, 0.75) (1.  , 0.75)]\n",
            " [(0.  , 1.  ) (0.25, 1.  ) (0.5 , 1.  ) (0.75, 1.  ) (1.  , 1.  )]]\n"
          ]
        }
      ],
      "source": [
        "Z = np.zeros((5,5), [('x',float),('y',float)])\n",
        "Z['x'], Z['y'] = np.meshgrid(np.linspace(0,1,5),\n",
        "                             np.linspace(0,1,5))\n",
        "print(Z)"
      ]
    },
    {
      "cell_type": "markdown",
      "metadata": {
        "id": "W5zoRV9s3F2i"
      },
      "source": [
        "####  47. Given two arrays, X and Y, construct the Cauchy matrix C (Cij =1/(xi - yj)) \n",
        "(**hint**: np.subtract.outer)"
      ]
    },
    {
      "cell_type": "code",
      "execution_count": 59,
      "metadata": {
        "id": "hUI1EBbB3F2i",
        "colab": {
          "base_uri": "https://localhost:8080/"
        },
        "outputId": "cea870e8-53c7-4e97-c998-fcce2adc1400"
      },
      "outputs": [
        {
          "output_type": "stream",
          "name": "stdout",
          "text": [
            "3638.163637117973\n"
          ]
        }
      ],
      "source": [
        "a = np.arange(8)\n",
        "b = a + 0.5\n",
        "C = 1.0 / np.subtract.outer(a, b)\n",
        "print(np.linalg.det(C))"
      ]
    },
    {
      "cell_type": "markdown",
      "metadata": {
        "id": "Lf-qC8Vq3F2i"
      },
      "source": [
        "#### 48. Print the minimum and maximum representable value for each numpy scalar type (★★☆) \n",
        "(**hint**: np.iinfo, np.finfo, eps)"
      ]
    },
    {
      "cell_type": "code",
      "execution_count": 60,
      "metadata": {
        "id": "Z-PyQtQO3F2i",
        "colab": {
          "base_uri": "https://localhost:8080/"
        },
        "outputId": "65180099-1922-4739-f947-0756ac9238d0"
      },
      "outputs": [
        {
          "output_type": "stream",
          "name": "stdout",
          "text": [
            "-128\n",
            "127\n",
            "-2147483648\n",
            "2147483647\n",
            "-9223372036854775808\n",
            "9223372036854775807\n",
            "-3.4028235e+38\n",
            "3.4028235e+38\n",
            "1.1920929e-07\n",
            "-1.7976931348623157e+308\n",
            "1.7976931348623157e+308\n",
            "2.220446049250313e-16\n"
          ]
        }
      ],
      "source": [
        "for dtype in [np.int8, np.int32, np.int64]:\n",
        "   print(np.iinfo(dtype).min)\n",
        "   print(np.iinfo(dtype).max)\n",
        "for dtype in [np.float32, np.float64]:\n",
        "   print(np.finfo(dtype).min)\n",
        "   print(np.finfo(dtype).max)\n",
        "   print(np.finfo(dtype).eps)"
      ]
    },
    {
      "cell_type": "markdown",
      "metadata": {
        "id": "ORO6QRav3F2i"
      },
      "source": [
        "#### 49. How to print all the values of an array? (★★☆) \n",
        "(**hint**: np.set\\_printoptions)"
      ]
    },
    {
      "cell_type": "code",
      "execution_count": 67,
      "metadata": {
        "id": "U3D6ML_f3F2i",
        "colab": {
          "base_uri": "https://localhost:8080/",
          "height": 363
        },
        "outputId": "29347735-65b2-49ce-ed17-7c8b89d0e7a0"
      },
      "outputs": [
        {
          "output_type": "error",
          "ename": "ValueError",
          "evalue": "ignored",
          "traceback": [
            "\u001b[0;31m---------------------------------------------------------------------------\u001b[0m",
            "\u001b[0;31mValueError\u001b[0m                                Traceback (most recent call last)",
            "\u001b[0;32m<ipython-input-67-8e6bd600a6bc>\u001b[0m in \u001b[0;36m<module>\u001b[0;34m()\u001b[0m\n\u001b[0;32m----> 1\u001b[0;31m \u001b[0mnp\u001b[0m\u001b[0;34m.\u001b[0m\u001b[0mset_printoptions\u001b[0m\u001b[0;34m(\u001b[0m\u001b[0mthreshold\u001b[0m\u001b[0;34m=\u001b[0m\u001b[0mnp\u001b[0m\u001b[0;34m.\u001b[0m\u001b[0mnan\u001b[0m\u001b[0;34m)\u001b[0m\u001b[0;34m\u001b[0m\u001b[0;34m\u001b[0m\u001b[0m\n\u001b[0m\u001b[1;32m      2\u001b[0m \u001b[0mZ\u001b[0m \u001b[0;34m=\u001b[0m \u001b[0mnp\u001b[0m\u001b[0;34m.\u001b[0m\u001b[0mzeros\u001b[0m\u001b[0;34m(\u001b[0m\u001b[0;34m(\u001b[0m\u001b[0;36m16\u001b[0m\u001b[0;34m,\u001b[0m\u001b[0;36m16\u001b[0m\u001b[0;34m)\u001b[0m\u001b[0;34m)\u001b[0m\u001b[0;34m\u001b[0m\u001b[0;34m\u001b[0m\u001b[0m\n\u001b[1;32m      3\u001b[0m \u001b[0mprint\u001b[0m\u001b[0;34m(\u001b[0m\u001b[0mZ\u001b[0m\u001b[0;34m)\u001b[0m\u001b[0;34m\u001b[0m\u001b[0;34m\u001b[0m\u001b[0m\n",
            "\u001b[0;32m/usr/local/lib/python3.7/dist-packages/numpy/core/arrayprint.py\u001b[0m in \u001b[0;36mset_printoptions\u001b[0;34m(precision, threshold, edgeitems, linewidth, suppress, nanstr, infstr, formatter, sign, floatmode, legacy)\u001b[0m\n\u001b[1;32m    252\u001b[0m     opt = _make_options_dict(precision, threshold, edgeitems, linewidth,\n\u001b[1;32m    253\u001b[0m                              \u001b[0msuppress\u001b[0m\u001b[0;34m,\u001b[0m \u001b[0mnanstr\u001b[0m\u001b[0;34m,\u001b[0m \u001b[0minfstr\u001b[0m\u001b[0;34m,\u001b[0m \u001b[0msign\u001b[0m\u001b[0;34m,\u001b[0m \u001b[0mformatter\u001b[0m\u001b[0;34m,\u001b[0m\u001b[0;34m\u001b[0m\u001b[0;34m\u001b[0m\u001b[0m\n\u001b[0;32m--> 254\u001b[0;31m                              floatmode, legacy)\n\u001b[0m\u001b[1;32m    255\u001b[0m     \u001b[0;31m# formatter is always reset\u001b[0m\u001b[0;34m\u001b[0m\u001b[0;34m\u001b[0m\u001b[0;34m\u001b[0m\u001b[0m\n\u001b[1;32m    256\u001b[0m     \u001b[0mopt\u001b[0m\u001b[0;34m[\u001b[0m\u001b[0;34m'formatter'\u001b[0m\u001b[0;34m]\u001b[0m \u001b[0;34m=\u001b[0m \u001b[0mformatter\u001b[0m\u001b[0;34m\u001b[0m\u001b[0;34m\u001b[0m\u001b[0m\n",
            "\u001b[0;32m/usr/local/lib/python3.7/dist-packages/numpy/core/arrayprint.py\u001b[0m in \u001b[0;36m_make_options_dict\u001b[0;34m(precision, threshold, edgeitems, linewidth, suppress, nanstr, infstr, sign, formatter, floatmode, legacy)\u001b[0m\n\u001b[1;32m     86\u001b[0m             \u001b[0;32mraise\u001b[0m \u001b[0mTypeError\u001b[0m\u001b[0;34m(\u001b[0m\u001b[0;34m\"threshold must be numeric\"\u001b[0m\u001b[0;34m)\u001b[0m\u001b[0;34m\u001b[0m\u001b[0;34m\u001b[0m\u001b[0m\n\u001b[1;32m     87\u001b[0m         \u001b[0;32mif\u001b[0m \u001b[0mnp\u001b[0m\u001b[0;34m.\u001b[0m\u001b[0misnan\u001b[0m\u001b[0;34m(\u001b[0m\u001b[0mthreshold\u001b[0m\u001b[0;34m)\u001b[0m\u001b[0;34m:\u001b[0m\u001b[0;34m\u001b[0m\u001b[0;34m\u001b[0m\u001b[0m\n\u001b[0;32m---> 88\u001b[0;31m             raise ValueError(\"threshold must be non-NAN, try \"\n\u001b[0m\u001b[1;32m     89\u001b[0m                              \"sys.maxsize for untruncated representation\")\n\u001b[1;32m     90\u001b[0m \u001b[0;34m\u001b[0m\u001b[0m\n",
            "\u001b[0;31mValueError\u001b[0m: threshold must be non-NAN, try sys.maxsize for untruncated representation"
          ]
        }
      ],
      "source": [
        "np.set_printoptions(threshold=np.nan)\n",
        "Z = np.zeros((16,16))\n",
        "print(Z)"
      ]
    },
    {
      "cell_type": "markdown",
      "metadata": {
        "id": "kjv_mDxP3F2j"
      },
      "source": [
        "#### 50. How to find the closest value (to a given scalar) in a vector? (★★☆) \n",
        "(**hint**: argmin)"
      ]
    },
    {
      "cell_type": "code",
      "execution_count": 68,
      "metadata": {
        "id": "b6Gt6Prq3F2j",
        "colab": {
          "base_uri": "https://localhost:8080/"
        },
        "outputId": "fcbbb781-b4ff-4f90-b376-43b690bd36fa"
      },
      "outputs": [
        {
          "output_type": "stream",
          "name": "stdout",
          "text": [
            "34\n"
          ]
        }
      ],
      "source": [
        "Z = np.arange(100)\n",
        "v = np.random.uniform(0,100)\n",
        "index = (np.abs(Z-v)).argmin()\n",
        "print(Z[index])"
      ]
    },
    {
      "cell_type": "markdown",
      "metadata": {
        "id": "rqpzfsIZ3F2j"
      },
      "source": [
        "#### 51. Create a structured array representing a position (x,y) and a color (r,g,b) (★★☆) \n",
        "(**hint**: dtype)"
      ]
    },
    {
      "cell_type": "code",
      "execution_count": 70,
      "metadata": {
        "id": "kOaas2Rw3F2j",
        "colab": {
          "base_uri": "https://localhost:8080/"
        },
        "outputId": "d07ac40f-134c-4d47-e008-d44c1c783459"
      },
      "outputs": [
        {
          "output_type": "stream",
          "name": "stdout",
          "text": [
            "[((0., 0.), (0., 0., 0.)) ((0., 0.), (0., 0., 0.))\n",
            " ((0., 0.), (0., 0., 0.)) ((0., 0.), (0., 0., 0.))\n",
            " ((0., 0.), (0., 0., 0.)) ((0., 0.), (0., 0., 0.))\n",
            " ((0., 0.), (0., 0., 0.)) ((0., 0.), (0., 0., 0.))\n",
            " ((0., 0.), (0., 0., 0.)) ((0., 0.), (0., 0., 0.))]\n"
          ]
        },
        {
          "output_type": "stream",
          "name": "stderr",
          "text": [
            "/usr/local/lib/python3.7/dist-packages/ipykernel_launcher.py:5: FutureWarning: Passing (type, 1) or '1type' as a synonym of type is deprecated; in a future version of numpy, it will be understood as (type, (1,)) / '(1,)type'.\n",
            "  \"\"\"\n"
          ]
        }
      ],
      "source": [
        "Z = np.zeros(10, [ ('position', [ ('x', float, 1),\n",
        "                                  ('y', float, 1)]),\n",
        "                   ('color',    [ ('r', float, 1),\n",
        "                                  ('g', float, 1),\n",
        "                                  ('b', float, 1)])])\n",
        "print(Z)"
      ]
    },
    {
      "cell_type": "markdown",
      "metadata": {
        "id": "KK4_7A593F2j"
      },
      "source": [
        "#### 52. Consider a random vector with shape (100,2) representing coordinates, find point by point distances (★★☆) \n",
        "(**hint**: np.atleast\\_2d, T, np.sqrt)"
      ]
    },
    {
      "cell_type": "code",
      "execution_count": 71,
      "metadata": {
        "id": "Qfog_Uiw3F2j",
        "colab": {
          "base_uri": "https://localhost:8080/"
        },
        "outputId": "625daf2d-d913-4333-9c7b-62cd62bc065d"
      },
      "outputs": [
        {
          "output_type": "stream",
          "name": "stdout",
          "text": [
            "[[0.         0.21262555 0.29921579 0.67596864 0.37274195 0.36615667\n",
            "  0.56357907 0.46524825 0.78551793 0.56367125]\n",
            " [0.21262555 0.         0.39532692 0.47905457 0.26908633 0.51854686\n",
            "  0.35106281 0.61609102 0.57311297 0.49047719]\n",
            " [0.29921579 0.39532692 0.         0.69650792 0.64110533 0.16012731\n",
            "  0.68749248 0.23987636 0.89672702 0.38800165]\n",
            " [0.67596864 0.47905457 0.69650792 0.         0.61005292 0.85613368\n",
            "  0.24127853 0.93214565 0.28381387 0.44506456]\n",
            " [0.37274195 0.26908633 0.64110533 0.61005292 0.         0.73625881\n",
            "  0.39107798 0.83584811 0.5721252  0.74948107]\n",
            " [0.36615667 0.51854686 0.16012731 0.85613368 0.73625881 0.\n",
            "  0.83526909 0.09963602 1.04890983 0.53178444]\n",
            " [0.56357907 0.35106281 0.68749248 0.24127853 0.39107798 0.83526909\n",
            "  0.         0.92581907 0.22212335 0.57002646]\n",
            " [0.46524825 0.61609102 0.23987636 0.93214565 0.83584811 0.09963602\n",
            "  0.92581907 0.         1.13647341 0.57582154]\n",
            " [0.78551793 0.57311297 0.89672702 0.28381387 0.5721252  1.04890983\n",
            "  0.22212335 1.13647341 0.         0.71599951]\n",
            " [0.56367125 0.49047719 0.38800165 0.44506456 0.74948107 0.53178444\n",
            "  0.57002646 0.57582154 0.71599951 0.        ]]\n",
            "[[0.         0.2112109  0.37411203 0.16692964 0.38791483 0.26006544\n",
            "  0.59348277 0.50918312 0.54631672 0.10581096]\n",
            " [0.2112109  0.         0.53582208 0.37199408 0.20392327 0.11447038\n",
            "  0.79715924 0.71756205 0.72228831 0.10557611]\n",
            " [0.37411203 0.53582208 0.         0.35480783 0.62415007 0.62073995\n",
            "  0.33816785 0.31713036 0.65579912 0.44724068]\n",
            " [0.16692964 0.37199408 0.35480783 0.         0.55484229 0.39424396\n",
            "  0.47478434 0.37811395 0.39154553 0.26937416]\n",
            " [0.38791483 0.20392327 0.62415007 0.55484229 0.         0.27920757\n",
            "  0.92944822 0.86373004 0.92205088 0.28925   ]\n",
            " [0.26006544 0.11447038 0.62073995 0.39424396 0.27920757 0.\n",
            "  0.85192993 0.76385783 0.69791176 0.17369864]\n",
            " [0.59348277 0.79715924 0.33816785 0.47478434 0.92944822 0.85192993\n",
            "  0.         0.10589646 0.54660119 0.69375523]\n",
            " [0.50918312 0.71756205 0.31713036 0.37811395 0.86373004 0.76385783\n",
            "  0.10589646 0.         0.45107425 0.61256743]\n",
            " [0.54631672 0.72228831 0.65579912 0.39154553 0.92205088 0.69791176\n",
            "  0.54660119 0.45107425 0.         0.63407892]\n",
            " [0.10581096 0.10557611 0.44724068 0.26937416 0.28925    0.17369864\n",
            "  0.69375523 0.61256743 0.63407892 0.        ]]\n"
          ]
        }
      ],
      "source": [
        "Z = np.random.random((10,2))\n",
        "X,Y = np.atleast_2d(Z[:,0], Z[:,1])\n",
        "D = np.sqrt( (X-X.T)**2 + (Y-Y.T)**2)\n",
        "print(D)\n",
        "\n",
        "# Much faster with scipy\n",
        "import scipy\n",
        "# Thanks Gavin Heverly-Coulson (#issue 1)\n",
        "import scipy.spatial\n",
        "\n",
        "Z = np.random.random((10,2))\n",
        "D = scipy.spatial.distance.cdist(Z,Z)\n",
        "print(D)"
      ]
    },
    {
      "cell_type": "markdown",
      "metadata": {
        "id": "jmODHiVL3F2k"
      },
      "source": [
        "#### 53. How to convert a float (32 bits) array into an integer (32 bits) in place? \n",
        "(**hint**: astype(copy=False))"
      ]
    },
    {
      "cell_type": "code",
      "execution_count": 72,
      "metadata": {
        "id": "mRB_o8a73F2k",
        "colab": {
          "base_uri": "https://localhost:8080/"
        },
        "outputId": "14e1f015-2bb8-4be4-c543-d0fed30d7a0c"
      },
      "outputs": [
        {
          "output_type": "stream",
          "name": "stdout",
          "text": [
            "[0. 1. 2. 3. 4. 5. 6. 7. 8. 9.]\n"
          ]
        }
      ],
      "source": [
        "Z = np.arange(10, dtype=np.int32)\n",
        "Z = Z.astype(np.float32, copy=False)\n",
        "print(Z)"
      ]
    },
    {
      "cell_type": "markdown",
      "metadata": {
        "id": "nXUFDqrJ3F2k"
      },
      "source": [
        "#### 54. How to read the following file? (★★☆) \n",
        "(**hint**: np.genfromtxt)"
      ]
    },
    {
      "cell_type": "markdown",
      "metadata": {
        "id": "ecJJdfya3F2k"
      },
      "source": [
        "```\n",
        "1, 2, 3, 4, 5\n",
        "6,  ,  , 7, 8\n",
        " ,  , 9,10,11\n",
        "```"
      ]
    },
    {
      "cell_type": "code",
      "execution_count": 73,
      "metadata": {
        "id": "eVCDzOOW3F2k",
        "colab": {
          "base_uri": "https://localhost:8080/"
        },
        "outputId": "ea2ea0e5-b8bd-41da-a9bb-808f53ea5b53"
      },
      "outputs": [
        {
          "output_type": "stream",
          "name": "stdout",
          "text": [
            "[[ 1  2  3  4  5]\n",
            " [ 6 -1 -1  7  8]\n",
            " [-1 -1  9 10 11]]\n"
          ]
        },
        {
          "output_type": "stream",
          "name": "stderr",
          "text": [
            "/usr/local/lib/python3.7/dist-packages/ipykernel_launcher.py:7: DeprecationWarning: `np.int` is a deprecated alias for the builtin `int`. To silence this warning, use `int` by itself. Doing this will not modify any behavior and is safe. When replacing `np.int`, you may wish to use e.g. `np.int64` or `np.int32` to specify the precision. If you wish to review your current use, check the release note link for additional information.\n",
            "Deprecated in NumPy 1.20; for more details and guidance: https://numpy.org/devdocs/release/1.20.0-notes.html#deprecations\n",
            "  import sys\n"
          ]
        }
      ],
      "source": [
        "from io import StringIO\n",
        "\n",
        "# Fake file \n",
        "s = StringIO(\"\"\"1, 2, 3, 4, 5\\n\n",
        "                6,  ,  , 7, 8\\n\n",
        "                 ,  , 9,10,11\\n\"\"\")\n",
        "Z = np.genfromtxt(s, delimiter=\",\", dtype=np.int)\n",
        "print(Z)"
      ]
    },
    {
      "cell_type": "markdown",
      "metadata": {
        "id": "6kzoHe0Y3F2k"
      },
      "source": [
        "#### 55. What is the equivalent of enumerate for numpy arrays? (★★☆) \n",
        "(**hint**: np.ndenumerate, np.ndindex)"
      ]
    },
    {
      "cell_type": "code",
      "execution_count": 74,
      "metadata": {
        "id": "VXGvuoXM3F2l",
        "colab": {
          "base_uri": "https://localhost:8080/"
        },
        "outputId": "f626cffe-a44a-47af-c779-87cd640bf545"
      },
      "outputs": [
        {
          "output_type": "stream",
          "name": "stdout",
          "text": [
            "(0, 0) 0\n",
            "(0, 1) 1\n",
            "(0, 2) 2\n",
            "(1, 0) 3\n",
            "(1, 1) 4\n",
            "(1, 2) 5\n",
            "(2, 0) 6\n",
            "(2, 1) 7\n",
            "(2, 2) 8\n",
            "(0, 0) 0\n",
            "(0, 1) 1\n",
            "(0, 2) 2\n",
            "(1, 0) 3\n",
            "(1, 1) 4\n",
            "(1, 2) 5\n",
            "(2, 0) 6\n",
            "(2, 1) 7\n",
            "(2, 2) 8\n"
          ]
        }
      ],
      "source": [
        "Z = np.arange(9).reshape(3,3)\n",
        "for index, value in np.ndenumerate(Z):\n",
        "    print(index, value)\n",
        "for index in np.ndindex(Z.shape):\n",
        "    print(index, Z[index])"
      ]
    },
    {
      "cell_type": "markdown",
      "metadata": {
        "id": "G3ve4yZO3F2l"
      },
      "source": [
        "#### 56. Generate a generic 2D Gaussian-like array (★★☆) \n",
        "(**hint**: np.meshgrid, np.exp)"
      ]
    },
    {
      "cell_type": "code",
      "execution_count": 75,
      "metadata": {
        "id": "l3f9-bSx3F2l",
        "colab": {
          "base_uri": "https://localhost:8080/"
        },
        "outputId": "efcd9408-52ec-4672-c45d-fb191fe12444"
      },
      "outputs": [
        {
          "output_type": "stream",
          "name": "stdout",
          "text": [
            "[[0.36787944 0.44822088 0.51979489 0.57375342 0.60279818 0.60279818\n",
            "  0.57375342 0.51979489 0.44822088 0.36787944]\n",
            " [0.44822088 0.54610814 0.63331324 0.69905581 0.73444367 0.73444367\n",
            "  0.69905581 0.63331324 0.54610814 0.44822088]\n",
            " [0.51979489 0.63331324 0.73444367 0.81068432 0.85172308 0.85172308\n",
            "  0.81068432 0.73444367 0.63331324 0.51979489]\n",
            " [0.57375342 0.69905581 0.81068432 0.89483932 0.9401382  0.9401382\n",
            "  0.89483932 0.81068432 0.69905581 0.57375342]\n",
            " [0.60279818 0.73444367 0.85172308 0.9401382  0.98773022 0.98773022\n",
            "  0.9401382  0.85172308 0.73444367 0.60279818]\n",
            " [0.60279818 0.73444367 0.85172308 0.9401382  0.98773022 0.98773022\n",
            "  0.9401382  0.85172308 0.73444367 0.60279818]\n",
            " [0.57375342 0.69905581 0.81068432 0.89483932 0.9401382  0.9401382\n",
            "  0.89483932 0.81068432 0.69905581 0.57375342]\n",
            " [0.51979489 0.63331324 0.73444367 0.81068432 0.85172308 0.85172308\n",
            "  0.81068432 0.73444367 0.63331324 0.51979489]\n",
            " [0.44822088 0.54610814 0.63331324 0.69905581 0.73444367 0.73444367\n",
            "  0.69905581 0.63331324 0.54610814 0.44822088]\n",
            " [0.36787944 0.44822088 0.51979489 0.57375342 0.60279818 0.60279818\n",
            "  0.57375342 0.51979489 0.44822088 0.36787944]]\n"
          ]
        }
      ],
      "source": [
        "X, Y = np.meshgrid(np.linspace(-1,1,10), np.linspace(-1,1,10))\n",
        "D = np.sqrt(X*X+Y*Y)\n",
        "sigma, mu = 1.0, 0.0\n",
        "G = np.exp(-( (D-mu)**2 / ( 2.0 * sigma**2 ) ) )\n",
        "print(G)"
      ]
    },
    {
      "cell_type": "markdown",
      "metadata": {
        "id": "mVzR4OCI3F2l"
      },
      "source": [
        "#### 57. How to randomly place p elements in a 2D array? (★★☆) \n",
        "(**hint**: np.put, np.random.choice)"
      ]
    },
    {
      "cell_type": "code",
      "execution_count": 76,
      "metadata": {
        "id": "tk8MFmZW3F2l",
        "colab": {
          "base_uri": "https://localhost:8080/"
        },
        "outputId": "be13d7db-83e3-46d4-e955-2f1add3a02c7"
      },
      "outputs": [
        {
          "output_type": "stream",
          "name": "stdout",
          "text": [
            "[[0. 0. 0. 0. 0. 0. 0. 0. 0. 0.]\n",
            " [0. 0. 0. 0. 0. 0. 0. 0. 0. 0.]\n",
            " [0. 0. 0. 0. 0. 0. 0. 0. 0. 0.]\n",
            " [0. 0. 0. 0. 0. 0. 0. 0. 0. 0.]\n",
            " [0. 0. 0. 0. 0. 0. 0. 0. 0. 0.]\n",
            " [0. 0. 0. 0. 0. 0. 0. 0. 0. 0.]\n",
            " [1. 0. 0. 0. 0. 0. 1. 0. 0. 0.]\n",
            " [0. 0. 0. 0. 0. 0. 1. 0. 0. 0.]\n",
            " [0. 0. 0. 0. 0. 0. 0. 0. 0. 0.]\n",
            " [0. 0. 0. 0. 0. 0. 0. 0. 0. 0.]]\n"
          ]
        }
      ],
      "source": [
        "n = 10\n",
        "p = 3\n",
        "Z = np.zeros((n,n))\n",
        "np.put(Z, np.random.choice(range(n*n), p, replace=False),1)\n",
        "print(Z)"
      ]
    },
    {
      "cell_type": "markdown",
      "metadata": {
        "id": "opBFb4lV3F2l"
      },
      "source": [
        "#### 58. Subtract the mean of each row of a matrix (★★☆) \n",
        "(**hint**: mean(axis=,keepdims=))"
      ]
    },
    {
      "cell_type": "code",
      "execution_count": 77,
      "metadata": {
        "id": "-me17blm3F2l",
        "colab": {
          "base_uri": "https://localhost:8080/"
        },
        "outputId": "981e43c4-32ed-405e-c21e-375fb80e3190"
      },
      "outputs": [
        {
          "output_type": "stream",
          "name": "stdout",
          "text": [
            "[[-0.36945739  0.18440473 -0.05050079  0.2572052   0.0930069   0.20494011\n",
            "   0.40703526  0.21124157 -0.43529996 -0.50257562]\n",
            " [ 0.42699138 -0.21860392 -0.13986439 -0.17244483  0.4114752  -0.5177489\n",
            "   0.35675302 -0.24533746  0.22783392 -0.12905403]\n",
            " [ 0.28887986 -0.26618892 -0.07571687 -0.26506756  0.5420718   0.45833396\n",
            "   0.01370533 -0.28963509 -0.27815871 -0.1282238 ]\n",
            " [ 0.140879   -0.17564624  0.32190386  0.11856463  0.11456636 -0.42807324\n",
            "  -0.05756441  0.0203537   0.16293474 -0.21791839]\n",
            " [-0.30727839 -0.3973636   0.31707407  0.25241723  0.32333751 -0.09398858\n",
            "   0.27353822 -0.22704733  0.24734195 -0.38803109]]\n"
          ]
        }
      ],
      "source": [
        "X = np.random.rand(5, 10)\n",
        "\n",
        "Y = X - X.mean(axis=1, keepdims=True)\n",
        "\n",
        "Y = X - X.mean(axis=1).reshape(-1, 1)\n",
        "\n",
        "print(Y)"
      ]
    },
    {
      "cell_type": "markdown",
      "metadata": {
        "id": "BTSidIMj3F2m"
      },
      "source": [
        "#### 59. How to sort an array by the nth column? (★★☆) \n",
        "(**hint**: argsort)"
      ]
    },
    {
      "cell_type": "code",
      "execution_count": 78,
      "metadata": {
        "id": "bryJWBjI3F2m",
        "colab": {
          "base_uri": "https://localhost:8080/"
        },
        "outputId": "2313e3d5-8e72-411a-9722-95d30ee00eee"
      },
      "outputs": [
        {
          "output_type": "stream",
          "name": "stdout",
          "text": [
            "[[8 1 2]\n",
            " [7 3 2]\n",
            " [7 8 8]]\n",
            "[[8 1 2]\n",
            " [7 3 2]\n",
            " [7 8 8]]\n"
          ]
        }
      ],
      "source": [
        "Z = np.random.randint(0,10,(3,3))\n",
        "print(Z)\n",
        "print(Z[Z[:,1].argsort()])"
      ]
    },
    {
      "cell_type": "markdown",
      "metadata": {
        "id": "vJIjsuBt3F2m"
      },
      "source": [
        "#### 60. How to tell if a given 2D array has null columns? (★★☆) \n",
        "(**hint**: any, ~)"
      ]
    },
    {
      "cell_type": "code",
      "execution_count": 79,
      "metadata": {
        "id": "2XHRZ1Wb3F2m",
        "colab": {
          "base_uri": "https://localhost:8080/"
        },
        "outputId": "ccc3f357-67d8-45d3-b6ff-baae10be0b2d"
      },
      "outputs": [
        {
          "output_type": "stream",
          "name": "stdout",
          "text": [
            "False\n"
          ]
        }
      ],
      "source": [
        "Z = np.random.randint(0,3,(3,10))\n",
        "print((~Z.any(axis=0)).any())"
      ]
    },
    {
      "cell_type": "markdown",
      "metadata": {
        "id": "7VD36Jq53F2m"
      },
      "source": [
        "#### 61. Find the nearest value from a given value in an array (★★☆) \n",
        "(**hint**: np.abs, argmin, flat)"
      ]
    },
    {
      "cell_type": "code",
      "execution_count": 80,
      "metadata": {
        "id": "pZ5PjZQf3F2m",
        "colab": {
          "base_uri": "https://localhost:8080/"
        },
        "outputId": "9c3c3b56-7da5-440d-b53f-e18b6a47f8f3"
      },
      "outputs": [
        {
          "output_type": "stream",
          "name": "stdout",
          "text": [
            "0.4890366299486679\n"
          ]
        }
      ],
      "source": [
        "Z = np.random.uniform(0,1,10)\n",
        "z = 0.5\n",
        "m = Z.flat[np.abs(Z - z).argmin()]\n",
        "print(m)"
      ]
    },
    {
      "cell_type": "markdown",
      "metadata": {
        "id": "wYYam_333F2m"
      },
      "source": [
        "#### 62. Considering two arrays with shape (1,3) and (3,1), how to compute their sum using an iterator? (★★☆) \n",
        "(**hint**: np.nditer)"
      ]
    },
    {
      "cell_type": "code",
      "execution_count": 81,
      "metadata": {
        "id": "h9Mwj0FE3F2n",
        "colab": {
          "base_uri": "https://localhost:8080/"
        },
        "outputId": "06d7de27-b8ba-4d0f-8949-775363164ed3"
      },
      "outputs": [
        {
          "output_type": "stream",
          "name": "stdout",
          "text": [
            "[[0 1 2]\n",
            " [1 2 3]\n",
            " [2 3 4]]\n"
          ]
        }
      ],
      "source": [
        "A = np.arange(3).reshape(3,1)\n",
        "B = np.arange(3).reshape(1,3)\n",
        "it = np.nditer([A,B,None])\n",
        "for x,y,z in it: z[...] = x + y\n",
        "print(it.operands[2])"
      ]
    },
    {
      "cell_type": "markdown",
      "metadata": {
        "id": "NHNjsa0k3F2n"
      },
      "source": [
        "#### 63. Create an array class that has a name attribute (★★☆) \n",
        "(**hint**: class method)"
      ]
    },
    {
      "cell_type": "code",
      "execution_count": 82,
      "metadata": {
        "id": "mOCcInMn3F2n",
        "colab": {
          "base_uri": "https://localhost:8080/"
        },
        "outputId": "784598c2-c3a1-4ffe-81f2-ef10b32122b1"
      },
      "outputs": [
        {
          "output_type": "stream",
          "name": "stdout",
          "text": [
            "range_10\n"
          ]
        }
      ],
      "source": [
        "class NamedArray(np.ndarray):\n",
        "    def __new__(cls, array, name=\"no name\"):\n",
        "        obj = np.asarray(array).view(cls)\n",
        "        obj.name = name\n",
        "        return obj\n",
        "    def __array_finalize__(self, obj):\n",
        "        if obj is None: return\n",
        "        self.info = getattr(obj, 'name', \"no name\")\n",
        "\n",
        "Z = NamedArray(np.arange(10), \"range_10\")\n",
        "print (Z.name)"
      ]
    },
    {
      "cell_type": "markdown",
      "metadata": {
        "id": "1P3E97B53F2n"
      },
      "source": [
        "#### 64. Consider a given vector, how to add 1 to each element indexed by a second vector (be careful with repeated indices)? (★★★) \n",
        "(**hint**: np.bincount | np.add.at)"
      ]
    },
    {
      "cell_type": "code",
      "execution_count": 83,
      "metadata": {
        "id": "PaSCJ3PA3F2n",
        "colab": {
          "base_uri": "https://localhost:8080/"
        },
        "outputId": "fb2932b6-7a0b-4d3c-9db3-3b7b235de0f2"
      },
      "outputs": [
        {
          "output_type": "stream",
          "name": "stdout",
          "text": [
            "[4. 3. 2. 3. 4. 2. 2. 3. 4. 3.]\n",
            "[7. 5. 3. 5. 7. 3. 3. 5. 7. 5.]\n"
          ]
        }
      ],
      "source": [
        "Z = np.ones(10)\n",
        "I = np.random.randint(0,len(Z),20)\n",
        "Z += np.bincount(I, minlength=len(Z))\n",
        "print(Z)\n",
        "np.add.at(Z, I, 1)\n",
        "print(Z)"
      ]
    },
    {
      "cell_type": "markdown",
      "metadata": {
        "id": "JBFUg2xr3F2n"
      },
      "source": [
        "#### 65. How to accumulate elements of a vector (X) to an array (F) based on an index list (I)? (★★★) \n",
        "(**hint**: np.bincount)"
      ]
    },
    {
      "cell_type": "code",
      "execution_count": 84,
      "metadata": {
        "id": "datLF3No3F2o",
        "colab": {
          "base_uri": "https://localhost:8080/"
        },
        "outputId": "4830de6a-7239-4f8b-f01d-7e531346b40c"
      },
      "outputs": [
        {
          "output_type": "stream",
          "name": "stdout",
          "text": [
            "[0. 7. 0. 6. 5. 0. 0. 0. 0. 3.]\n"
          ]
        }
      ],
      "source": [
        "X = [1,2,3,4,5,6]\n",
        "I = [1,3,9,3,4,1]\n",
        "F = np.bincount(I,X)\n",
        "print(F)"
      ]
    },
    {
      "cell_type": "markdown",
      "metadata": {
        "id": "USM0biZ53F2o"
      },
      "source": [
        "#### 66. Considering a (w,h,3) image of (dtype=ubyte), compute the number of unique colors (★★★) \n",
        "(**hint**: np.unique)"
      ]
    },
    {
      "cell_type": "code",
      "execution_count": 85,
      "metadata": {
        "id": "J4fsGO1x3F2o",
        "colab": {
          "base_uri": "https://localhost:8080/"
        },
        "outputId": "6ab830c8-21a2-42d6-98d5-4b30520ef63c"
      },
      "outputs": [
        {
          "output_type": "stream",
          "name": "stdout",
          "text": [
            "[0 1]\n"
          ]
        }
      ],
      "source": [
        "w,h = 16,16\n",
        "I = np.random.randint(0,2,(h,w,3)).astype(np.ubyte)\n",
        "F = I[...,0]*256*256 + I[...,1]*256 +I[...,2]\n",
        "n = len(np.unique(F))\n",
        "print(np.unique(I))"
      ]
    },
    {
      "cell_type": "markdown",
      "metadata": {
        "id": "kkTuZMQC3F2o"
      },
      "source": [
        "#### 67. Considering a four dimensions array, how to get sum over the last two axis at once? (★★★) \n",
        "(**hint**: sum(axis=(-2,-1)))"
      ]
    },
    {
      "cell_type": "code",
      "execution_count": 86,
      "metadata": {
        "id": "ePjPhf_O3F2o",
        "colab": {
          "base_uri": "https://localhost:8080/"
        },
        "outputId": "a273b37d-54fd-4b13-c64a-3e366fa01661"
      },
      "outputs": [
        {
          "output_type": "stream",
          "name": "stdout",
          "text": [
            "[[76 36 70 58]\n",
            " [46 56 41 54]\n",
            " [40 55 54 71]]\n",
            "[[76 36 70 58]\n",
            " [46 56 41 54]\n",
            " [40 55 54 71]]\n"
          ]
        }
      ],
      "source": [
        "A = np.random.randint(0,10,(3,4,3,4))\n",
        "sum = A.sum(axis=(-2,-1))\n",
        "print(sum)\n",
        "sum = A.reshape(A.shape[:-2] + (-1,)).sum(axis=-1)\n",
        "print(sum)"
      ]
    },
    {
      "cell_type": "markdown",
      "metadata": {
        "id": "wiN3GPBr3F2o"
      },
      "source": [
        "#### 68. Considering a one-dimensional vector D, how to compute means of subsets of D using a vector S of same size describing subset  indices? (★★★) \n",
        "(**hint**: np.bincount)"
      ]
    },
    {
      "cell_type": "code",
      "execution_count": 87,
      "metadata": {
        "id": "GS6K48wy3F2o",
        "colab": {
          "base_uri": "https://localhost:8080/"
        },
        "outputId": "3343006d-1606-47a8-97b9-bdca7416ebd6"
      },
      "outputs": [
        {
          "output_type": "stream",
          "name": "stdout",
          "text": [
            "[0.49325663 0.37221391 0.47768852 0.39186824 0.29949858 0.52701374\n",
            " 0.54212825 0.40407533 0.36874964 0.52942047]\n",
            "0    0.493257\n",
            "1    0.372214\n",
            "2    0.477689\n",
            "3    0.391868\n",
            "4    0.299499\n",
            "5    0.527014\n",
            "6    0.542128\n",
            "7    0.404075\n",
            "8    0.368750\n",
            "9    0.529420\n",
            "dtype: float64\n"
          ]
        }
      ],
      "source": [
        "D = np.random.uniform(0,1,100)\n",
        "S = np.random.randint(0,10,100)\n",
        "D_sums = np.bincount(S, weights=D)\n",
        "D_counts = np.bincount(S)\n",
        "D_means = D_sums / D_counts\n",
        "print(D_means)\n",
        "import pandas as pd\n",
        "print(pd.Series(D).groupby(S).mean())"
      ]
    },
    {
      "cell_type": "markdown",
      "metadata": {
        "id": "5kCesQMP3F2p"
      },
      "source": [
        "#### 69. How to get the diagonal of a dot product? (★★★) \n",
        "(**hint**: np.diag)"
      ]
    },
    {
      "cell_type": "code",
      "execution_count": 89,
      "metadata": {
        "id": "Szf81wHh3F2p",
        "colab": {
          "base_uri": "https://localhost:8080/"
        },
        "outputId": "ec55d84a-d667-47a5-cfe0-db530ccf6683"
      },
      "outputs": [
        {
          "output_type": "execute_result",
          "data": {
            "text/plain": [
              "array([1.18603044, 0.93199573, 0.90959544, 1.27484877, 1.84520651])"
            ]
          },
          "metadata": {},
          "execution_count": 89
        }
      ],
      "source": [
        "A = np.random.uniform(0,1,(5,5))\n",
        "B = np.random.uniform(0,1,(5,5))\n",
        "np.diag(np.dot(A, B))"
      ]
    },
    {
      "cell_type": "markdown",
      "metadata": {
        "id": "bCWNW2b73F2p"
      },
      "source": [
        "#### 70. Consider the vector \\[1, 2, 3, 4, 5\\], how to build a new vector with 3 consecutive zeros interleaved between each value? (★★★) \n",
        "(**hint**: array\\[::4\\])"
      ]
    },
    {
      "cell_type": "code",
      "execution_count": null,
      "metadata": {
        "id": "1IxtnFIY3F2q"
      },
      "outputs": [],
      "source": [
        ""
      ]
    },
    {
      "cell_type": "markdown",
      "metadata": {
        "id": "CR3K5TZr3F2q"
      },
      "source": [
        "#### 71. Consider an array of dimension (5,5,3), how to mulitply it by an array with dimensions (5,5)? (★★★) \n",
        "(**hint**: array\\[:, :, None\\])"
      ]
    },
    {
      "cell_type": "code",
      "execution_count": 91,
      "metadata": {
        "collapsed": true,
        "id": "W4JQJmC53F2q",
        "colab": {
          "base_uri": "https://localhost:8080/"
        },
        "outputId": "043ee14b-7d7a-4296-bc31-046129259c20"
      },
      "outputs": [
        {
          "output_type": "stream",
          "name": "stdout",
          "text": [
            "[[[2. 2. 2.]\n",
            "  [2. 2. 2.]\n",
            "  [2. 2. 2.]\n",
            "  [2. 2. 2.]\n",
            "  [2. 2. 2.]]\n",
            "\n",
            " [[2. 2. 2.]\n",
            "  [2. 2. 2.]\n",
            "  [2. 2. 2.]\n",
            "  [2. 2. 2.]\n",
            "  [2. 2. 2.]]\n",
            "\n",
            " [[2. 2. 2.]\n",
            "  [2. 2. 2.]\n",
            "  [2. 2. 2.]\n",
            "  [2. 2. 2.]\n",
            "  [2. 2. 2.]]\n",
            "\n",
            " [[2. 2. 2.]\n",
            "  [2. 2. 2.]\n",
            "  [2. 2. 2.]\n",
            "  [2. 2. 2.]\n",
            "  [2. 2. 2.]]\n",
            "\n",
            " [[2. 2. 2.]\n",
            "  [2. 2. 2.]\n",
            "  [2. 2. 2.]\n",
            "  [2. 2. 2.]\n",
            "  [2. 2. 2.]]]\n"
          ]
        }
      ],
      "source": [
        "A = np.ones((5,5,3))\n",
        "B = 2*np.ones((5,5))\n",
        "print(A * B[:,:,None])"
      ]
    },
    {
      "cell_type": "markdown",
      "metadata": {
        "id": "BhYeNKTC3F2q"
      },
      "source": [
        "#### 72. How to swap two rows of an array? (★★★) \n",
        "(**hint**: array\\[\\[\\]\\] = array\\[\\[\\]\\])"
      ]
    },
    {
      "cell_type": "code",
      "execution_count": 92,
      "metadata": {
        "id": "CeFM78aE3F2q",
        "colab": {
          "base_uri": "https://localhost:8080/"
        },
        "outputId": "7bc2b2a2-3e9e-4e20-9c2d-149fa937bb22"
      },
      "outputs": [
        {
          "output_type": "stream",
          "name": "stdout",
          "text": [
            "[[ 5  6  7  8  9]\n",
            " [ 0  1  2  3  4]\n",
            " [10 11 12 13 14]\n",
            " [15 16 17 18 19]\n",
            " [20 21 22 23 24]]\n"
          ]
        }
      ],
      "source": [
        "A = np.arange(25).reshape(5,5)\n",
        "A[[0,1]] = A[[1,0]]\n",
        "print(A)"
      ]
    },
    {
      "cell_type": "markdown",
      "metadata": {
        "id": "QOz3n6_53F2r"
      },
      "source": [
        "#### 73. Consider a set of 10 triplets describing 10 triangles (with shared vertices), find the set of unique line segments composing all the  triangles (★★★) \n",
        "(**hint**: repeat, np.roll, np.sort, view, np.unique)"
      ]
    },
    {
      "cell_type": "code",
      "execution_count": 94,
      "metadata": {
        "id": "S77GNYhD3F2r",
        "colab": {
          "base_uri": "https://localhost:8080/"
        },
        "outputId": "8fc784da-ab72-4536-b38d-cf1fc1f69880"
      },
      "outputs": [
        {
          "output_type": "stream",
          "name": "stdout",
          "text": [
            "[( 0,  3) ( 0, 51) ( 2,  7) ( 2, 75) ( 3, 51) ( 4, 59) ( 4, 84) ( 5, 60)\n",
            " ( 5, 68) ( 7, 75) (10, 44) (10, 63) (12, 28) (12, 67) (28, 67) (30, 78)\n",
            " (30, 81) (32, 94) (32, 97) (44, 63) (44, 87) (56, 93) (56, 97) (59, 84)\n",
            " (60, 68) (63, 87) (78, 81) (93, 97) (94, 97)]\n"
          ]
        }
      ],
      "source": [
        "faces = np.random.randint(0,100,(10,3))\n",
        "F = np.roll(faces.repeat(2,axis=1),-1,axis=1)\n",
        "F = F.reshape(len(F)*3,2)\n",
        "F = np.sort(F,axis=1)\n",
        "G = F.view( dtype=[('p0',F.dtype),('p1',F.dtype)] )\n",
        "G = np.unique(G)\n",
        "print(G)"
      ]
    },
    {
      "cell_type": "markdown",
      "metadata": {
        "id": "d5ng7TR03F2r"
      },
      "source": [
        "#### 74. Given an array C that is a bincount, how to produce an array A such that np.bincount(A) == C? (★★★) \n",
        "(**hint**: np.repeat)"
      ]
    },
    {
      "cell_type": "code",
      "execution_count": 95,
      "metadata": {
        "id": "8aSpM2jA3F2r",
        "colab": {
          "base_uri": "https://localhost:8080/"
        },
        "outputId": "d29e8272-aacf-4cc9-8a6a-d1c3667f59ff"
      },
      "outputs": [
        {
          "output_type": "stream",
          "name": "stdout",
          "text": [
            "[1 1 2 3 4 4 6]\n"
          ]
        }
      ],
      "source": [
        "C = np.bincount([1,1,2,3,4,4,6])\n",
        "A = np.repeat(np.arange(len(C)), C)\n",
        "print(A)"
      ]
    },
    {
      "cell_type": "markdown",
      "metadata": {
        "id": "3MMfD6PQ3F2r"
      },
      "source": [
        "#### 75. How to compute averages using a sliding window over an array? (★★★) \n",
        "(**hint**: np.cumsum)"
      ]
    },
    {
      "cell_type": "code",
      "execution_count": 96,
      "metadata": {
        "id": "JxOBIGsi3F2s",
        "colab": {
          "base_uri": "https://localhost:8080/"
        },
        "outputId": "d023bac5-0fb5-444c-9503-256d11999e25"
      },
      "outputs": [
        {
          "output_type": "stream",
          "name": "stdout",
          "text": [
            "[ 1.  2.  3.  4.  5.  6.  7.  8.  9. 10. 11. 12. 13. 14. 15. 16. 17. 18.]\n"
          ]
        }
      ],
      "source": [
        "def moving_average(a, n=3) :\n",
        "    ret = np.cumsum(a, dtype=float)\n",
        "    ret[n:] = ret[n:] - ret[:-n]\n",
        "    return ret[n - 1:] / n\n",
        "Z = np.arange(20)\n",
        "print(moving_average(Z, n=3))"
      ]
    },
    {
      "cell_type": "markdown",
      "metadata": {
        "id": "eW2_NTQa3F2s"
      },
      "source": [
        "#### 76. Consider a one-dimensional array Z, build a two-dimensional array whose first row is (Z\\[0\\],Z\\[1\\],Z\\[2\\]) and each subsequent row is  shifted by 1 (last row should be (Z\\[-3\\],Z\\[-2\\],Z\\[-1\\]) (★★★) \n",
        "(**hint**: from numpy.lib import stride_tricks)"
      ]
    },
    {
      "cell_type": "code",
      "execution_count": 97,
      "metadata": {
        "id": "xMmN1Ggp3F2s",
        "colab": {
          "base_uri": "https://localhost:8080/"
        },
        "outputId": "5e4c0e77-9ae3-40b7-9a6f-b3e43a424dad"
      },
      "outputs": [
        {
          "output_type": "stream",
          "name": "stdout",
          "text": [
            "[[0 1 2]\n",
            " [1 2 3]\n",
            " [2 3 4]\n",
            " [3 4 5]\n",
            " [4 5 6]\n",
            " [5 6 7]\n",
            " [6 7 8]\n",
            " [7 8 9]]\n"
          ]
        }
      ],
      "source": [
        "from numpy.lib import stride_tricks\n",
        "\n",
        "def rolling(a, window):\n",
        "    shape = (a.size - window + 1, window)\n",
        "    strides = (a.itemsize, a.itemsize)\n",
        "    return stride_tricks.as_strided(a, shape=shape, strides=strides)\n",
        "Z = rolling(np.arange(10), 3)\n",
        "print(Z)"
      ]
    },
    {
      "cell_type": "markdown",
      "metadata": {
        "id": "CSnrr2Pr3F2s"
      },
      "source": [
        "#### 77. How to negate a boolean, or to change the sign of a float inplace? (★★★) \n",
        "(**hint**: np.logical_not, np.negative)"
      ]
    },
    {
      "cell_type": "code",
      "execution_count": 98,
      "metadata": {
        "id": "NPOSyMXI3F2s",
        "colab": {
          "base_uri": "https://localhost:8080/"
        },
        "outputId": "94891b91-b72c-4a42-e813-116b26729538"
      },
      "outputs": [
        {
          "output_type": "execute_result",
          "data": {
            "text/plain": [
              "array([ 0.39225707, -0.22211802, -0.28152993,  0.78159249, -0.52517101,\n",
              "        0.49266747,  0.63811046,  0.98985357, -0.13410955, -0.64244409,\n",
              "        0.02649976, -0.20284018,  0.71603025,  0.58531762, -0.78652593,\n",
              "        0.13003211,  0.7050023 , -0.06389843,  0.03816406, -0.06958909,\n",
              "        0.27501141,  0.90208207, -0.93284828, -0.2128483 , -0.69472357,\n",
              "       -0.60819478, -0.66168036, -0.75742505,  0.78899491,  0.52679312,\n",
              "        0.33088967, -0.85977147, -0.29307502,  0.67058394,  0.68196388,\n",
              "        0.71429415,  0.94489626,  0.18840944, -0.4125243 , -0.3511804 ,\n",
              "        0.31357499,  0.64795525, -0.36463043,  0.89008119,  0.53835921,\n",
              "       -0.03601928,  0.6264316 ,  0.09605292,  0.84497468,  0.98228426,\n",
              "        0.42062954, -0.38269662,  0.60503608, -0.74519315, -0.47687993,\n",
              "       -0.91771214,  0.31644769,  0.32806312,  0.68253356, -0.88957698,\n",
              "        0.19730461, -0.67087919, -0.78593866, -0.1595766 , -0.03310352,\n",
              "       -0.57622234,  0.06940988, -0.9473614 ,  0.98994658,  0.58411173,\n",
              "       -0.9297026 ,  0.3057303 , -0.9320559 , -0.37823664, -0.41320108,\n",
              "        0.14596714, -0.42741292, -0.2743166 , -0.02663549, -0.92461245,\n",
              "       -0.33090152,  0.72886904,  0.18858398, -0.16582814, -0.88265515,\n",
              "       -0.6613885 ,  0.62964086, -0.47584351,  0.41362061, -0.2103419 ,\n",
              "       -0.07821335,  0.44242225, -0.00711468, -0.55831534, -0.85429589,\n",
              "       -0.98421263,  0.27586117, -0.1063788 , -0.95341224, -0.79823593])"
            ]
          },
          "metadata": {},
          "execution_count": 98
        }
      ],
      "source": [
        "Z = np.random.randint(0,2,100)\n",
        "np.logical_not(Z, out=Z)\n",
        "\n",
        "Z = np.random.uniform(-1.0,1.0,100)\n",
        "np.negative(Z, out=Z)"
      ]
    },
    {
      "cell_type": "markdown",
      "metadata": {
        "id": "ygOyExcf3F2s"
      },
      "source": [
        "#### 78. Consider 2 sets of points P0,P1 describing lines (2d) and a point p, how to compute distance from p to each line i  (P0\\[i\\],P1\\[i\\])? (★★★)"
      ]
    },
    {
      "cell_type": "code",
      "execution_count": 99,
      "metadata": {
        "id": "gy7zxLHW3F2t",
        "colab": {
          "base_uri": "https://localhost:8080/"
        },
        "outputId": "5acdaf07-f4c4-4024-9a68-bc6192720252"
      },
      "outputs": [
        {
          "output_type": "stream",
          "name": "stdout",
          "text": [
            "[ 3.39680593  0.98847182  6.06093834  2.64405957 12.05933787  8.59473647\n",
            "  8.68935284 10.38295286  1.41082543 10.08549708]\n"
          ]
        }
      ],
      "source": [
        "def distance(P0, P1, p):\n",
        "    T = P1 - P0\n",
        "    L = (T**2).sum(axis=1)\n",
        "    U = -((P0[:,0]-p[...,0])*T[:,0] + (P0[:,1]-p[...,1])*T[:,1]) / L\n",
        "    U = U.reshape(len(U),1)\n",
        "    D = P0 + U*T - p\n",
        "    return np.sqrt((D**2).sum(axis=1))\n",
        "\n",
        "P0 = np.random.uniform(-10,10,(10,2))\n",
        "P1 = np.random.uniform(-10,10,(10,2))\n",
        "p  = np.random.uniform(-10,10,( 1,2))\n",
        "print(distance(P0, P1, p))"
      ]
    },
    {
      "cell_type": "markdown",
      "metadata": {
        "id": "jw96YuuP3F2t"
      },
      "source": [
        "#### 79. Consider 2 sets of points P0,P1 describing lines (2d) and a set of points P, how to compute distance from each point j (P\\[j\\]) to each line i (P0\\[i\\],P1\\[i\\])? (★★★)"
      ]
    },
    {
      "cell_type": "code",
      "execution_count": 100,
      "metadata": {
        "id": "5-0HYZ9Q3F2t",
        "colab": {
          "base_uri": "https://localhost:8080/"
        },
        "outputId": "05444ebc-bd6f-4a81-d245-610d9e57b9df"
      },
      "outputs": [
        {
          "output_type": "stream",
          "name": "stdout",
          "text": [
            "[[ 2.08378968 15.58862005  4.49688207  8.28544086  7.91094714  4.69870807\n",
            "   7.31575764 13.14628354 11.54429691  7.87147961]\n",
            " [ 4.6437427  10.18354633  1.34728266  5.59980534  0.29863148  2.81972064\n",
            "   2.66539754  7.27794961  8.94308913  0.26218694]\n",
            " [ 9.64788899  5.06631828  5.45963397  2.46672971  5.98576994  8.76862964\n",
            "   0.32335911  1.85034591  5.87469251  6.02453351]\n",
            " [ 2.12976472 11.56181666  0.97388658  5.9392553   2.77934377  0.2187039\n",
            "   4.67827126  8.84934449  9.25208881  2.73909787]\n",
            " [ 3.71207584 14.90836857  6.33691341  6.87692254  8.62545469  5.87213169\n",
            "   9.29400636 12.64018266 10.11875103  8.57697434]\n",
            " [ 1.19753909  4.29923425  5.99065716  3.01844188  0.9082857   0.27043558\n",
            "  11.23900875  2.12581079  0.26965804  0.82516584]\n",
            " [ 0.75104047 10.78093747  4.13886786  3.88480156  4.28320473  1.99471239\n",
            "   7.99699957  8.36339352  7.16678539  4.22877324]\n",
            " [ 5.02823944  2.8618297   0.18048485  1.81361651  4.11434733  5.52870907\n",
            "   5.40690416  0.1485076   1.54650734  4.17982471]\n",
            " [ 7.37987774 11.63876424  4.5060302   8.28978596  0.72495436  4.69006414\n",
            "   0.79266054  8.43079225 11.66114769  0.74495403]\n",
            " [ 2.32579522 17.16056966  0.42829701 11.8200968   5.82268407  1.43310697\n",
            "   2.0743246  14.25504338 15.12552844  5.80649881]]\n"
          ]
        }
      ],
      "source": [
        "P0 = np.random.uniform(-10, 10, (10,2))\n",
        "P1 = np.random.uniform(-10,10,(10,2))\n",
        "p = np.random.uniform(-10, 10, (10,2))\n",
        "print(np.array([distance(P0,P1,p_i) for p_i in p]))"
      ]
    },
    {
      "cell_type": "markdown",
      "metadata": {
        "id": "ZbeqWXPa3F2t"
      },
      "source": [
        "#### 80. Consider an arbitrary array, write a function that extract a subpart with a fixed shape and centered on a given element (pad with a `fill` value when necessary) (★★★) \n",
        "(**hint**: minimum, maximum)"
      ]
    },
    {
      "cell_type": "code",
      "execution_count": 101,
      "metadata": {
        "id": "5u0uhqCY3F2t",
        "colab": {
          "base_uri": "https://localhost:8080/"
        },
        "outputId": "3feb7213-ef52-4af1-b5ba-baca66a6ed28"
      },
      "outputs": [
        {
          "output_type": "stream",
          "name": "stdout",
          "text": [
            "[[6 2 9 3 7 1 1 7 0 1]\n",
            " [1 7 6 8 8 1 7 9 5 3]\n",
            " [1 6 4 3 3 7 7 1 2 1]\n",
            " [8 5 1 4 3 0 9 8 1 9]\n",
            " [9 9 4 5 8 5 1 8 3 3]\n",
            " [2 2 5 7 4 6 9 9 0 3]\n",
            " [0 1 2 5 6 9 9 7 9 1]\n",
            " [9 2 8 9 6 6 0 7 9 4]\n",
            " [3 6 4 9 7 2 9 9 5 2]\n",
            " [9 6 9 3 4 4 5 5 4 7]]\n",
            "[[0 0 0 0 0]\n",
            " [0 6 2 9 3]\n",
            " [0 1 7 6 8]\n",
            " [0 1 6 4 3]\n",
            " [0 8 5 1 4]]\n"
          ]
        },
        {
          "output_type": "stream",
          "name": "stderr",
          "text": [
            "/usr/local/lib/python3.7/dist-packages/ipykernel_launcher.py:23: FutureWarning: Using a non-tuple sequence for multidimensional indexing is deprecated; use `arr[tuple(seq)]` instead of `arr[seq]`. In the future this will be interpreted as an array index, `arr[np.array(seq)]`, which will result either in an error or a different result.\n"
          ]
        }
      ],
      "source": [
        "Z = np.random.randint(0,10,(10,10))\n",
        "shape = (5,5)\n",
        "fill  = 0\n",
        "position = (1,1)\n",
        "\n",
        "R = np.ones(shape, dtype=Z.dtype)*fill\n",
        "P  = np.array(list(position)).astype(int)\n",
        "Rs = np.array(list(R.shape)).astype(int)\n",
        "Zs = np.array(list(Z.shape)).astype(int)\n",
        "\n",
        "R_start = np.zeros((len(shape),)).astype(int)\n",
        "R_stop  = np.array(list(shape)).astype(int)\n",
        "Z_start = (P-Rs//2)\n",
        "Z_stop  = (P+Rs//2)+Rs%2\n",
        "\n",
        "R_start = (R_start - np.minimum(Z_start,0)).tolist()\n",
        "Z_start = (np.maximum(Z_start,0)).tolist()\n",
        "R_stop = np.maximum(R_start, (R_stop - np.maximum(Z_stop-Zs,0))).tolist()\n",
        "Z_stop = (np.minimum(Z_stop,Zs)).tolist()\n",
        "\n",
        "r = [slice(start,stop) for start,stop in zip(R_start,R_stop)]\n",
        "z = [slice(start,stop) for start,stop in zip(Z_start,Z_stop)]\n",
        "R[r] = Z[z]\n",
        "print(Z)\n",
        "print(R)"
      ]
    },
    {
      "cell_type": "markdown",
      "metadata": {
        "id": "jouL_YpI3F2t"
      },
      "source": [
        "#### 81. Consider an array Z = \\[1,2,3,4,5,6,7,8,9,10,11,12,13,14\\], how to generate an array R = \\[\\[1,2,3,4\\], \\[2,3,4,5\\], \\[3,4,5,6\\], ..., \\[11,12,13,14\\]\\]? (★★★) \n",
        "(**hint**: stride\\_tricks.as\\_strided)"
      ]
    },
    {
      "cell_type": "code",
      "execution_count": 102,
      "metadata": {
        "id": "WhlUy3c_3F2u",
        "colab": {
          "base_uri": "https://localhost:8080/"
        },
        "outputId": "f3a2ee5b-703a-40a5-b3a2-682a85c3ae92"
      },
      "outputs": [
        {
          "output_type": "stream",
          "name": "stdout",
          "text": [
            "[[ 1  2  3  4]\n",
            " [ 2  3  4  5]\n",
            " [ 3  4  5  6]\n",
            " [ 4  5  6  7]\n",
            " [ 5  6  7  8]\n",
            " [ 6  7  8  9]\n",
            " [ 7  8  9 10]\n",
            " [ 8  9 10 11]\n",
            " [ 9 10 11 12]\n",
            " [10 11 12 13]\n",
            " [11 12 13 14]]\n"
          ]
        }
      ],
      "source": [
        "Z = np.arange(1,15,dtype=np.uint32)\n",
        "R = stride_tricks.as_strided(Z,(11,4),(4,4))\n",
        "print(R)"
      ]
    },
    {
      "cell_type": "markdown",
      "source": [
        ""
      ],
      "metadata": {
        "id": "WKBkreMzdUXW"
      }
    },
    {
      "cell_type": "markdown",
      "source": [
        ""
      ],
      "metadata": {
        "id": "RLkmHW9cdUQ6"
      }
    },
    {
      "cell_type": "markdown",
      "metadata": {
        "id": "d-DrtoJL3F2u"
      },
      "source": [
        "#### 82. Compute a matrix rank (★★★) \n",
        "(**hint**: np.linalg.svd) (suggestion: np.linalg.svd)"
      ]
    },
    {
      "cell_type": "code",
      "execution_count": 103,
      "metadata": {
        "id": "pmiz6ox43F2u",
        "colab": {
          "base_uri": "https://localhost:8080/"
        },
        "outputId": "70197b1e-9506-482c-e1d5-63b47993c65a"
      },
      "outputs": [
        {
          "output_type": "stream",
          "name": "stdout",
          "text": [
            "10\n"
          ]
        }
      ],
      "source": [
        "Z = np.random.uniform(0,1,(10,10))\n",
        "U, S, V = np.linalg.svd(Z) # Singular Value Decomposition\n",
        "rank = np.sum(S > 1e-10)\n",
        "print(rank)"
      ]
    },
    {
      "cell_type": "markdown",
      "metadata": {
        "id": "VAjsb5Q93F2u"
      },
      "source": [
        "#### 83. How to find the most frequent value in an array? \n",
        "(**hint**: np.bincount, argmax)"
      ]
    },
    {
      "cell_type": "code",
      "execution_count": 104,
      "metadata": {
        "id": "cZ2-SJFy3F2u",
        "colab": {
          "base_uri": "https://localhost:8080/"
        },
        "outputId": "92c8f934-ed09-483f-a1c6-8bdac3ae0453"
      },
      "outputs": [
        {
          "output_type": "stream",
          "name": "stdout",
          "text": [
            "8\n"
          ]
        }
      ],
      "source": [
        "Z = np.random.randint(0,10,50)\n",
        "print(np.bincount(Z).argmax())"
      ]
    },
    {
      "cell_type": "markdown",
      "metadata": {
        "id": "C6C8RDVP3F2u"
      },
      "source": [
        "#### 84. Extract all the contiguous 3x3 blocks from a random 10x10 matrix (★★★) \n",
        "(**hint**: stride\\_tricks.as\\_strided)"
      ]
    },
    {
      "cell_type": "code",
      "execution_count": 105,
      "metadata": {
        "id": "tSOlxTac3F2u",
        "colab": {
          "base_uri": "https://localhost:8080/"
        },
        "outputId": "61d2678c-6b99-41df-c815-6e72cdfb5a55"
      },
      "outputs": [
        {
          "output_type": "stream",
          "name": "stdout",
          "text": [
            "[[[[4 2 1]\n",
            "   [4 1 1]\n",
            "   [4 3 2]]\n",
            "\n",
            "  [[2 1 3]\n",
            "   [1 1 4]\n",
            "   [3 2 0]]\n",
            "\n",
            "  [[1 3 0]\n",
            "   [1 4 2]\n",
            "   [2 0 4]]\n",
            "\n",
            "  [[3 0 0]\n",
            "   [4 2 3]\n",
            "   [0 4 4]]\n",
            "\n",
            "  [[0 0 0]\n",
            "   [2 3 2]\n",
            "   [4 4 3]]\n",
            "\n",
            "  [[0 0 0]\n",
            "   [3 2 1]\n",
            "   [4 3 0]]\n",
            "\n",
            "  [[0 0 3]\n",
            "   [2 1 4]\n",
            "   [3 0 4]]\n",
            "\n",
            "  [[0 3 4]\n",
            "   [1 4 1]\n",
            "   [0 4 1]]]\n",
            "\n",
            "\n",
            " [[[4 1 1]\n",
            "   [4 3 2]\n",
            "   [4 4 0]]\n",
            "\n",
            "  [[1 1 4]\n",
            "   [3 2 0]\n",
            "   [4 0 2]]\n",
            "\n",
            "  [[1 4 2]\n",
            "   [2 0 4]\n",
            "   [0 2 2]]\n",
            "\n",
            "  [[4 2 3]\n",
            "   [0 4 4]\n",
            "   [2 2 3]]\n",
            "\n",
            "  [[2 3 2]\n",
            "   [4 4 3]\n",
            "   [2 3 1]]\n",
            "\n",
            "  [[3 2 1]\n",
            "   [4 3 0]\n",
            "   [3 1 1]]\n",
            "\n",
            "  [[2 1 4]\n",
            "   [3 0 4]\n",
            "   [1 1 3]]\n",
            "\n",
            "  [[1 4 1]\n",
            "   [0 4 1]\n",
            "   [1 3 3]]]\n",
            "\n",
            "\n",
            " [[[4 3 2]\n",
            "   [4 4 0]\n",
            "   [4 0 3]]\n",
            "\n",
            "  [[3 2 0]\n",
            "   [4 0 2]\n",
            "   [0 3 3]]\n",
            "\n",
            "  [[2 0 4]\n",
            "   [0 2 2]\n",
            "   [3 3 2]]\n",
            "\n",
            "  [[0 4 4]\n",
            "   [2 2 3]\n",
            "   [3 2 2]]\n",
            "\n",
            "  [[4 4 3]\n",
            "   [2 3 1]\n",
            "   [2 2 0]]\n",
            "\n",
            "  [[4 3 0]\n",
            "   [3 1 1]\n",
            "   [2 0 2]]\n",
            "\n",
            "  [[3 0 4]\n",
            "   [1 1 3]\n",
            "   [0 2 3]]\n",
            "\n",
            "  [[0 4 1]\n",
            "   [1 3 3]\n",
            "   [2 3 2]]]\n",
            "\n",
            "\n",
            " [[[4 4 0]\n",
            "   [4 0 3]\n",
            "   [2 3 0]]\n",
            "\n",
            "  [[4 0 2]\n",
            "   [0 3 3]\n",
            "   [3 0 2]]\n",
            "\n",
            "  [[0 2 2]\n",
            "   [3 3 2]\n",
            "   [0 2 1]]\n",
            "\n",
            "  [[2 2 3]\n",
            "   [3 2 2]\n",
            "   [2 1 0]]\n",
            "\n",
            "  [[2 3 1]\n",
            "   [2 2 0]\n",
            "   [1 0 1]]\n",
            "\n",
            "  [[3 1 1]\n",
            "   [2 0 2]\n",
            "   [0 1 2]]\n",
            "\n",
            "  [[1 1 3]\n",
            "   [0 2 3]\n",
            "   [1 2 3]]\n",
            "\n",
            "  [[1 3 3]\n",
            "   [2 3 2]\n",
            "   [2 3 3]]]\n",
            "\n",
            "\n",
            " [[[4 0 3]\n",
            "   [2 3 0]\n",
            "   [3 3 1]]\n",
            "\n",
            "  [[0 3 3]\n",
            "   [3 0 2]\n",
            "   [3 1 1]]\n",
            "\n",
            "  [[3 3 2]\n",
            "   [0 2 1]\n",
            "   [1 1 3]]\n",
            "\n",
            "  [[3 2 2]\n",
            "   [2 1 0]\n",
            "   [1 3 4]]\n",
            "\n",
            "  [[2 2 0]\n",
            "   [1 0 1]\n",
            "   [3 4 4]]\n",
            "\n",
            "  [[2 0 2]\n",
            "   [0 1 2]\n",
            "   [4 4 2]]\n",
            "\n",
            "  [[0 2 3]\n",
            "   [1 2 3]\n",
            "   [4 2 4]]\n",
            "\n",
            "  [[2 3 2]\n",
            "   [2 3 3]\n",
            "   [2 4 3]]]\n",
            "\n",
            "\n",
            " [[[2 3 0]\n",
            "   [3 3 1]\n",
            "   [3 4 1]]\n",
            "\n",
            "  [[3 0 2]\n",
            "   [3 1 1]\n",
            "   [4 1 3]]\n",
            "\n",
            "  [[0 2 1]\n",
            "   [1 1 3]\n",
            "   [1 3 0]]\n",
            "\n",
            "  [[2 1 0]\n",
            "   [1 3 4]\n",
            "   [3 0 1]]\n",
            "\n",
            "  [[1 0 1]\n",
            "   [3 4 4]\n",
            "   [0 1 2]]\n",
            "\n",
            "  [[0 1 2]\n",
            "   [4 4 2]\n",
            "   [1 2 3]]\n",
            "\n",
            "  [[1 2 3]\n",
            "   [4 2 4]\n",
            "   [2 3 0]]\n",
            "\n",
            "  [[2 3 3]\n",
            "   [2 4 3]\n",
            "   [3 0 0]]]\n",
            "\n",
            "\n",
            " [[[3 3 1]\n",
            "   [3 4 1]\n",
            "   [1 3 1]]\n",
            "\n",
            "  [[3 1 1]\n",
            "   [4 1 3]\n",
            "   [3 1 0]]\n",
            "\n",
            "  [[1 1 3]\n",
            "   [1 3 0]\n",
            "   [1 0 0]]\n",
            "\n",
            "  [[1 3 4]\n",
            "   [3 0 1]\n",
            "   [0 0 1]]\n",
            "\n",
            "  [[3 4 4]\n",
            "   [0 1 2]\n",
            "   [0 1 4]]\n",
            "\n",
            "  [[4 4 2]\n",
            "   [1 2 3]\n",
            "   [1 4 0]]\n",
            "\n",
            "  [[4 2 4]\n",
            "   [2 3 0]\n",
            "   [4 0 4]]\n",
            "\n",
            "  [[2 4 3]\n",
            "   [3 0 0]\n",
            "   [0 4 1]]]\n",
            "\n",
            "\n",
            " [[[3 4 1]\n",
            "   [1 3 1]\n",
            "   [0 2 4]]\n",
            "\n",
            "  [[4 1 3]\n",
            "   [3 1 0]\n",
            "   [2 4 1]]\n",
            "\n",
            "  [[1 3 0]\n",
            "   [1 0 0]\n",
            "   [4 1 4]]\n",
            "\n",
            "  [[3 0 1]\n",
            "   [0 0 1]\n",
            "   [1 4 1]]\n",
            "\n",
            "  [[0 1 2]\n",
            "   [0 1 4]\n",
            "   [4 1 1]]\n",
            "\n",
            "  [[1 2 3]\n",
            "   [1 4 0]\n",
            "   [1 1 1]]\n",
            "\n",
            "  [[2 3 0]\n",
            "   [4 0 4]\n",
            "   [1 1 1]]\n",
            "\n",
            "  [[3 0 0]\n",
            "   [0 4 1]\n",
            "   [1 1 1]]]]\n"
          ]
        }
      ],
      "source": [
        "Z = np.random.randint(0,5,(10,10))\n",
        "n = 3\n",
        "i = 1 + (Z.shape[0]-3)\n",
        "j = 1 + (Z.shape[1]-3)\n",
        "C = stride_tricks.as_strided(Z, shape=(i, j, n, n), strides=Z.strides + Z.strides)\n",
        "print(C)"
      ]
    },
    {
      "cell_type": "markdown",
      "metadata": {
        "id": "gnNYFFQx3F2v"
      },
      "source": [
        "#### 85. Create a 2D array subclass such that Z\\[i,j\\] == Z\\[j,i\\] (★★★) \n",
        "(**hint**: class method)"
      ]
    },
    {
      "cell_type": "code",
      "execution_count": 106,
      "metadata": {
        "id": "Eapu6HcB3F2v",
        "colab": {
          "base_uri": "https://localhost:8080/"
        },
        "outputId": "7514be92-3862-4d1e-877c-065dc7f2fd74"
      },
      "outputs": [
        {
          "output_type": "stream",
          "name": "stdout",
          "text": [
            "[[ 3 16 15  7  9]\n",
            " [16  8  2  7  2]\n",
            " [15  2  5 42  8]\n",
            " [ 7  7 42  4  3]\n",
            " [ 9  2  8  3  9]]\n"
          ]
        }
      ],
      "source": [
        "class Symetric(np.ndarray):\n",
        "    def __setitem__(self, index, value):\n",
        "        i,j = index\n",
        "        super(Symetric, self).__setitem__((i,j), value)\n",
        "        super(Symetric, self).__setitem__((j,i), value)\n",
        "\n",
        "def symetric(Z):\n",
        "    return np.asarray(Z + Z.T - np.diag(Z.diagonal())).view(Symetric)\n",
        "\n",
        "S = symetric(np.random.randint(0,10,(5,5)))\n",
        "S[2,3] = 42\n",
        "print(S)"
      ]
    },
    {
      "cell_type": "markdown",
      "metadata": {
        "id": "EVKxnGod3F2v"
      },
      "source": [
        "#### 86. Consider a set of p matrices wich shape (n,n) and a set of p vectors with shape (n,1). How to compute the sum of of the p matrix products at once? (result has shape (n,1)) (★★★) \n",
        "(**hint**: np.tensordot)"
      ]
    },
    {
      "cell_type": "code",
      "execution_count": 107,
      "metadata": {
        "id": "E8dOK0bL3F2v",
        "colab": {
          "base_uri": "https://localhost:8080/"
        },
        "outputId": "0bc2323f-815f-4934-ef5c-6f5b8606747d"
      },
      "outputs": [
        {
          "output_type": "stream",
          "name": "stdout",
          "text": [
            "[[200.]\n",
            " [200.]\n",
            " [200.]\n",
            " [200.]\n",
            " [200.]\n",
            " [200.]\n",
            " [200.]\n",
            " [200.]\n",
            " [200.]\n",
            " [200.]\n",
            " [200.]\n",
            " [200.]\n",
            " [200.]\n",
            " [200.]\n",
            " [200.]\n",
            " [200.]\n",
            " [200.]\n",
            " [200.]\n",
            " [200.]\n",
            " [200.]]\n"
          ]
        }
      ],
      "source": [
        "p, n = 10, 20\n",
        "M = np.ones((p,n,n))\n",
        "V = np.ones((p,n,1))\n",
        "S = np.tensordot(M, V, axes=[[0, 2], [0, 1]])\n",
        "print(S)\n"
      ]
    },
    {
      "cell_type": "markdown",
      "metadata": {
        "id": "TLdSo5Mc3F2v"
      },
      "source": [
        "#### 87. Consider a 16x16 array, how to get the block-sum (block size is 4x4)? (★★★) \n",
        "(**hint**: np.add.reduceat)"
      ]
    },
    {
      "cell_type": "code",
      "source": [
        "Z = np.ones((16,16))\n",
        "k = 4\n",
        "S = np.add.reduceat(np.add.reduceat(Z, np.arange(0, Z.shape[0], k), axis=0),\n",
        "                                       np.arange(0, Z.shape[1], k), axis=1)\n",
        "print(S)"
      ],
      "metadata": {
        "colab": {
          "base_uri": "https://localhost:8080/"
        },
        "id": "NgPIV930d7H6",
        "outputId": "3f8dffb0-4192-4c8f-da38-72e292f36ed1"
      },
      "execution_count": 108,
      "outputs": [
        {
          "output_type": "stream",
          "name": "stdout",
          "text": [
            "[[16. 16. 16. 16.]\n",
            " [16. 16. 16. 16.]\n",
            " [16. 16. 16. 16.]\n",
            " [16. 16. 16. 16.]]\n"
          ]
        }
      ]
    },
    {
      "cell_type": "markdown",
      "metadata": {
        "id": "A8CF8OPS3F2w"
      },
      "source": [
        "#### 88. How to implement the Game of Life using numpy arrays? (★★★)"
      ]
    },
    {
      "cell_type": "code",
      "execution_count": 109,
      "metadata": {
        "id": "H4eSLYTY3F2w",
        "colab": {
          "base_uri": "https://localhost:8080/"
        },
        "outputId": "3ef8e5ee-fb01-4c8f-fed1-b38fe3aaca8c"
      },
      "outputs": [
        {
          "output_type": "stream",
          "name": "stdout",
          "text": [
            "[[0 0 0 ... 0 0 0]\n",
            " [0 0 0 ... 0 0 0]\n",
            " [0 0 0 ... 0 0 0]\n",
            " ...\n",
            " [0 0 0 ... 0 0 0]\n",
            " [0 0 0 ... 0 0 0]\n",
            " [0 0 0 ... 0 0 0]]\n"
          ]
        }
      ],
      "source": [
        "def iterate(Z):\n",
        "    # Count neighbours\n",
        "    N = (Z[0:-2,0:-2] + Z[0:-2,1:-1] + Z[0:-2,2:] +\n",
        "         Z[1:-1,0:-2]                + Z[1:-1,2:] +\n",
        "         Z[2:  ,0:-2] + Z[2:  ,1:-1] + Z[2:  ,2:])\n",
        "\n",
        "    # Apply rules\n",
        "    birth = (N==3) & (Z[1:-1,1:-1]==0)\n",
        "    survive = ((N==2) | (N==3)) & (Z[1:-1,1:-1]==1)\n",
        "    Z[...] = 0\n",
        "    Z[1:-1,1:-1][birth | survive] = 1\n",
        "    return Z\n",
        "\n",
        "Z = np.random.randint(0,2,(50,50))\n",
        "for i in range(100): Z = iterate(Z)\n",
        "print(Z)"
      ]
    },
    {
      "cell_type": "markdown",
      "metadata": {
        "id": "ofwVYy6j3F2w"
      },
      "source": [
        "#### 89. How to get the n largest values of an array (★★★) \n",
        "(**hint**: np.argsort | np.argpartition)"
      ]
    },
    {
      "cell_type": "code",
      "execution_count": 110,
      "metadata": {
        "id": "NzjMEP4U3F2w",
        "colab": {
          "base_uri": "https://localhost:8080/"
        },
        "outputId": "e1f07d94-3db3-4269-d55f-349ffad2e6c6"
      },
      "outputs": [
        {
          "output_type": "stream",
          "name": "stdout",
          "text": [
            "[9995 9996 9997 9998 9999]\n",
            "[9997 9998 9999 9996 9995]\n"
          ]
        }
      ],
      "source": [
        "Z = np.arange(10000)\n",
        "np.random.shuffle(Z)\n",
        "n = 5\n",
        "\n",
        "# Slow\n",
        "print (Z[np.argsort(Z)[-n:]])\n",
        "\n",
        "# Fast\n",
        "print (Z[np.argpartition(-Z,n)[:n]])"
      ]
    },
    {
      "cell_type": "markdown",
      "metadata": {
        "id": "WJRQ88Kx3F2w"
      },
      "source": [
        "#### 90. Given an arbitrary number of vectors, build the cartesian product (every combinations of every item) (★★★) \n",
        "(**hint**: np.indices)"
      ]
    },
    {
      "cell_type": "code",
      "execution_count": 111,
      "metadata": {
        "scrolled": true,
        "id": "BUmSW13e3F2x",
        "colab": {
          "base_uri": "https://localhost:8080/"
        },
        "outputId": "4d7dc588-745b-40ba-bb28-700f45411727"
      },
      "outputs": [
        {
          "output_type": "stream",
          "name": "stdout",
          "text": [
            "[[1 4 6]\n",
            " [1 4 7]\n",
            " [1 5 6]\n",
            " [1 5 7]\n",
            " [2 4 6]\n",
            " [2 4 7]\n",
            " [2 5 6]\n",
            " [2 5 7]\n",
            " [3 4 6]\n",
            " [3 4 7]\n",
            " [3 5 6]\n",
            " [3 5 7]]\n"
          ]
        }
      ],
      "source": [
        "def cartesian(arrays):\n",
        "    arrays = [np.asarray(a) for a in arrays]\n",
        "    shape = (len(x) for x in arrays)\n",
        "\n",
        "    ix = np.indices(shape, dtype=int)\n",
        "    ix = ix.reshape(len(arrays), -1).T\n",
        "\n",
        "    for n, arr in enumerate(arrays):\n",
        "        ix[:, n] = arrays[n][ix[:, n]]\n",
        "\n",
        "    return ix\n",
        "\n",
        "print (cartesian(([1, 2, 3], [4, 5], [6, 7])))"
      ]
    },
    {
      "cell_type": "markdown",
      "metadata": {
        "id": "nPhm1Z6U3F2x"
      },
      "source": [
        "#### 91. How to create a record array from a regular array? (★★★) \n",
        "(**hint**: np.core.records.fromarrays)"
      ]
    },
    {
      "cell_type": "code",
      "execution_count": 112,
      "metadata": {
        "id": "3IacDRzz3F2x",
        "colab": {
          "base_uri": "https://localhost:8080/"
        },
        "outputId": "5db969f3-2d06-4727-d52e-2ad754cb1924"
      },
      "outputs": [
        {
          "output_type": "stream",
          "name": "stdout",
          "text": [
            "[(b'Hello', 2.5, 3) (b'World', 3.6, 2)]\n"
          ]
        }
      ],
      "source": [
        "Z = np.array([(\"Hello\", 2.5, 3),\n",
        "              (\"World\", 3.6, 2)])\n",
        "R = np.core.records.fromarrays(Z.T, \n",
        "                               names='col1, col2, col3',\n",
        "                               formats = 'S8, f8, i8')\n",
        "print(R)"
      ]
    },
    {
      "cell_type": "markdown",
      "metadata": {
        "id": "nunWFDO73F2y"
      },
      "source": [
        "#### 92. Consider a large vector Z, compute Z to the power of 3 using 3 different methods (★★★) \n",
        "(**hint**: np.power, \\*, np.einsum)"
      ]
    },
    {
      "cell_type": "code",
      "source": [
        "x = np.random.rand(5e7)\n",
        "\n",
        "%timeit np.power(x,3)\n",
        "%timeit x*x*x\n",
        "%timeit np.einsum('i,i,i->i',x,x,x)"
      ],
      "metadata": {
        "id": "LWF-dWZcezlQ"
      },
      "execution_count": null,
      "outputs": []
    },
    {
      "cell_type": "code",
      "source": [
        ""
      ],
      "metadata": {
        "id": "0p0qOpefeuKG"
      },
      "execution_count": null,
      "outputs": []
    },
    {
      "cell_type": "markdown",
      "metadata": {
        "id": "LZQF6VgW3F2y"
      },
      "source": [
        "#### 93. Consider two arrays A and B of shape (8,3) and (2,2). How to find rows of A that contain elements of each row of B regardless of the order of the elements in B? (★★★) \n",
        "(**hint**: np.where)"
      ]
    },
    {
      "cell_type": "code",
      "execution_count": 114,
      "metadata": {
        "id": "SWU0-YyC3F2y",
        "colab": {
          "base_uri": "https://localhost:8080/"
        },
        "outputId": "b51ce716-3241-4404-f517-5a833c012506"
      },
      "outputs": [
        {
          "output_type": "stream",
          "name": "stdout",
          "text": [
            "[]\n"
          ]
        }
      ],
      "source": [
        "A = np.random.randint(0,5,(8,3))\n",
        "B = np.random.randint(0,5,(2,2))\n",
        "\n",
        "C = (A[..., np.newaxis, np.newaxis] == B)\n",
        "rows = np.where(C.any((3,1)).all(1))[0]\n",
        "print(rows)"
      ]
    },
    {
      "cell_type": "markdown",
      "metadata": {
        "id": "miVCLwDf3F2y"
      },
      "source": [
        "#### 94. Considering a 10x3 matrix, extract rows with unequal values (e.g. \\[2,2,3\\]) (★★★)"
      ]
    },
    {
      "cell_type": "code",
      "execution_count": 115,
      "metadata": {
        "id": "7A3VwU9s3F2z",
        "colab": {
          "base_uri": "https://localhost:8080/"
        },
        "outputId": "88dc8637-39c5-4405-d19c-fadd10b14405"
      },
      "outputs": [
        {
          "output_type": "stream",
          "name": "stdout",
          "text": [
            "[[1 0 1]\n",
            " [4 0 4]\n",
            " [1 1 0]\n",
            " [4 1 1]\n",
            " [2 1 3]\n",
            " [2 1 2]\n",
            " [1 4 2]\n",
            " [1 0 4]\n",
            " [2 3 2]\n",
            " [4 2 3]]\n",
            "[[1 0 1]\n",
            " [4 0 4]\n",
            " [1 1 0]\n",
            " [4 1 1]\n",
            " [2 1 3]\n",
            " [2 1 2]\n",
            " [1 4 2]\n",
            " [1 0 4]\n",
            " [2 3 2]\n",
            " [4 2 3]]\n",
            "[[1 0 1]\n",
            " [4 0 4]\n",
            " [1 1 0]\n",
            " [4 1 1]\n",
            " [2 1 3]\n",
            " [2 1 2]\n",
            " [1 4 2]\n",
            " [1 0 4]\n",
            " [2 3 2]\n",
            " [4 2 3]]\n"
          ]
        }
      ],
      "source": [
        "Z = np.random.randint(0,5,(10,3))\n",
        "print(Z)\n",
        "# solution for arrays of all dtypes (including string arrays and record arrays)\n",
        "E = np.all(Z[:,1:] == Z[:,:-1], axis=1)\n",
        "U = Z[~E]\n",
        "print(U)\n",
        "# soluiton for numerical arrays only, will work for any number of columns in Z\n",
        "U = Z[Z.max(axis=1) != Z.min(axis=1),:]\n",
        "print(U)"
      ]
    },
    {
      "cell_type": "markdown",
      "metadata": {
        "id": "egVvCZHx3F2z"
      },
      "source": [
        "#### 95. Convert a vector of ints into a matrix binary representation (★★★) \n",
        "(**hint**: np.unpackbits)"
      ]
    },
    {
      "cell_type": "code",
      "execution_count": 116,
      "metadata": {
        "id": "a0zPwGYl3F2z",
        "colab": {
          "base_uri": "https://localhost:8080/"
        },
        "outputId": "aaf0fa52-0586-4851-f40e-000428edb015"
      },
      "outputs": [
        {
          "output_type": "stream",
          "name": "stdout",
          "text": [
            "[[0 0 0 0 0 0 0 0]\n",
            " [0 0 0 0 0 0 0 1]\n",
            " [0 0 0 0 0 0 1 0]\n",
            " [0 0 0 0 0 0 1 1]\n",
            " [0 0 0 0 1 1 1 1]\n",
            " [0 0 0 1 0 0 0 0]\n",
            " [0 0 1 0 0 0 0 0]\n",
            " [0 1 0 0 0 0 0 0]\n",
            " [1 0 0 0 0 0 0 0]]\n",
            "[[0 0 0 0 0 0 0 0]\n",
            " [0 0 0 0 0 0 0 1]\n",
            " [0 0 0 0 0 0 1 0]\n",
            " [0 0 0 0 0 0 1 1]\n",
            " [0 0 0 0 1 1 1 1]\n",
            " [0 0 0 1 0 0 0 0]\n",
            " [0 0 1 0 0 0 0 0]\n",
            " [0 1 0 0 0 0 0 0]\n",
            " [1 0 0 0 0 0 0 0]]\n"
          ]
        }
      ],
      "source": [
        "I = np.array([0, 1, 2, 3, 15, 16, 32, 64, 128])\n",
        "B = ((I.reshape(-1,1) & (2**np.arange(8))) != 0).astype(int)\n",
        "print(B[:,::-1])\n",
        "I = np.array([0, 1, 2, 3, 15, 16, 32, 64, 128], dtype=np.uint8)\n",
        "print(np.unpackbits(I[:, np.newaxis], axis=1))"
      ]
    },
    {
      "cell_type": "markdown",
      "metadata": {
        "id": "2h93zL6q3F2z"
      },
      "source": [
        "#### 96. Given a two dimensional array, how to extract unique rows? (★★★) \n",
        "(**hint**: np.ascontiguousarray)"
      ]
    },
    {
      "cell_type": "code",
      "execution_count": 120,
      "metadata": {
        "id": "n3CxXMLN3F20",
        "colab": {
          "base_uri": "https://localhost:8080/"
        },
        "outputId": "5be2771f-b5ce-4cbf-9718-be36bd7025db"
      },
      "outputs": [
        {
          "output_type": "stream",
          "name": "stdout",
          "text": [
            "[[0 0 1]\n",
            " [0 1 0]\n",
            " [1 1 0]\n",
            " [1 1 1]]\n"
          ]
        }
      ],
      "source": [
        "Z = np.random.randint(0,2,(6,3))\n",
        "T = np.ascontiguousarray(Z).view(np.dtype((np.void, Z.dtype.itemsize * Z.shape[1])))\n",
        "_, idx = np.unique(T, return_index=True)\n",
        "uZ = Z[idx]\n",
        "print(uZ)"
      ]
    },
    {
      "cell_type": "markdown",
      "metadata": {
        "id": "_4OAmLA03F20"
      },
      "source": [
        "#### 97. Considering 2 vectors A & B, write the einsum equivalent of inner, outer, sum, and mul function (★★★) \n",
        "(**hint**: np.einsum)"
      ]
    },
    {
      "cell_type": "code",
      "execution_count": 119,
      "metadata": {
        "id": "JnnuLNhQ3F20",
        "colab": {
          "base_uri": "https://localhost:8080/"
        },
        "outputId": "83dfe2c7-b839-4b88-88d4-f4f7cc93f536"
      },
      "outputs": [
        {
          "output_type": "execute_result",
          "data": {
            "text/plain": [
              "array([[0.0277901 , 0.15899842, 0.10020742, 0.15189744, 0.05765582,\n",
              "        0.00704106, 0.08095198, 0.27389214, 0.04389392, 0.03573453],\n",
              "       [0.0120553 , 0.06897324, 0.04346981, 0.06589284, 0.025011  ,\n",
              "        0.0030544 , 0.03511683, 0.11881394, 0.01904111, 0.01550158],\n",
              "       [0.07689925, 0.4399717 , 0.27728848, 0.42032224, 0.15954203,\n",
              "        0.01948363, 0.22400587, 0.75789929, 0.12146085, 0.09888262],\n",
              "       [0.02044769, 0.11698949, 0.07373165, 0.11176466, 0.04242259,\n",
              "        0.00518074, 0.05956368, 0.20152718, 0.03229672, 0.02629312],\n",
              "       [0.0153069 , 0.08757699, 0.05519467, 0.08366574, 0.03175707,\n",
              "        0.00387824, 0.04458869, 0.15086094, 0.02417696, 0.01968273],\n",
              "       [0.02993168, 0.17125125, 0.10792967, 0.16360304, 0.06209893,\n",
              "        0.00758366, 0.08719035, 0.29499898, 0.0472765 , 0.03848832],\n",
              "       [0.00563945, 0.03226556, 0.0203351 , 0.03082455, 0.0117001 ,\n",
              "        0.00142884, 0.01642759, 0.05558094, 0.0089074 , 0.00725161],\n",
              "       [0.04181058, 0.23921527, 0.15076342, 0.22853174, 0.08674396,\n",
              "        0.01059336, 0.12179334, 0.41207442, 0.066039  , 0.05376308],\n",
              "       [0.03585632, 0.20514851, 0.12929313, 0.19598643, 0.07439072,\n",
              "        0.00908476, 0.1044487 , 0.35339071, 0.05663435, 0.04610665],\n",
              "       [0.01038838, 0.0594361 , 0.03745911, 0.05678164, 0.02155265,\n",
              "        0.00263206, 0.03026112, 0.10238518, 0.01640824, 0.01335813]])"
            ]
          },
          "metadata": {},
          "execution_count": 119
        }
      ],
      "source": [
        "A = np.random.uniform(0,1,10)\n",
        "B = np.random.uniform(0,1,10)\n",
        "\n",
        "np.einsum('i->', A)       \n",
        "np.einsum('i,i->i', A, B) \n",
        "np.einsum('i,i', A, B)    \n",
        "np.einsum('i,j->ij', A, B)   "
      ]
    },
    {
      "cell_type": "markdown",
      "metadata": {
        "id": "sKnfUG3A3F20"
      },
      "source": [
        "#### 98. Considering a path described by two vectors (X,Y), how to sample it using equidistant samples (★★★)? \n",
        "(**hint**: np.cumsum, np.interp)"
      ]
    },
    {
      "cell_type": "code",
      "execution_count": 122,
      "metadata": {
        "collapsed": true,
        "id": "wOg5AxOD3F20"
      },
      "outputs": [],
      "source": [
        "phi = np.arange(0, 10*np.pi, 0.1)\n",
        "a = 1\n",
        "x = a*phi*np.cos(phi)\n",
        "y = a*phi*np.sin(phi)\n",
        "\n",
        "dr = (np.diff(x)**2 + np.diff(y)**2)**.5 \n",
        "r = np.zeros_like(x)\n",
        "r[1:] = np.cumsum(dr)                \n",
        "r_int = np.linspace(0, r.max(), 200) \n",
        "x_int = np.interp(r_int, r, x)       \n",
        "y_int = np.interp(r_int, r, y)"
      ]
    },
    {
      "cell_type": "code",
      "source": [
        ""
      ],
      "metadata": {
        "id": "rTxLwlBGf3Iz"
      },
      "execution_count": null,
      "outputs": []
    },
    {
      "cell_type": "markdown",
      "metadata": {
        "id": "o5OZQaCQ3F20"
      },
      "source": [
        "#### 99. Given an integer n and a 2D array X, select from X the rows which can be interpreted as draws from a multinomial distribution with n degrees, i.e., the rows which only contain integers and which sum to n. (★★★) \n",
        "(**hint**: np.logical\\_and.reduce, np.mod)"
      ]
    },
    {
      "cell_type": "code",
      "execution_count": 118,
      "metadata": {
        "id": "A1V6reLa3F20",
        "colab": {
          "base_uri": "https://localhost:8080/"
        },
        "outputId": "57b993f2-23e5-4851-a1dd-e30b48f577d6"
      },
      "outputs": [
        {
          "output_type": "stream",
          "name": "stdout",
          "text": [
            "[[2. 0. 1. 1.]]\n"
          ]
        }
      ],
      "source": [
        "X = np.asarray([[1.0, 0.0, 3.0, 8.0],\n",
        "                [2.0, 0.0, 1.0, 1.0],\n",
        "                [1.5, 2.5, 1.0, 0.0]])\n",
        "n = 4\n",
        "M = np.logical_and.reduce(np.mod(X, 1) == 0, axis=-1)\n",
        "M &= (X.sum(axis=-1) == n)\n",
        "print(X[M])"
      ]
    },
    {
      "cell_type": "markdown",
      "metadata": {
        "id": "TB_zhiFo3F21"
      },
      "source": [
        "#### 100. Compute bootstrapped 95% confidence intervals for the mean of a 1D array X (i.e., resample the elements of an array with replacement N times, compute the mean of each sample, and then compute percentiles over the means). (★★★) \n",
        "(**hint**: np.percentile)"
      ]
    },
    {
      "cell_type": "code",
      "execution_count": 117,
      "metadata": {
        "id": "kPBvnm_h3F21",
        "colab": {
          "base_uri": "https://localhost:8080/"
        },
        "outputId": "d93e9e56-515f-48d1-90ff-ab1b3f41e2e9"
      },
      "outputs": [
        {
          "output_type": "stream",
          "name": "stdout",
          "text": [
            "[-0.1883706   0.21808009]\n"
          ]
        }
      ],
      "source": [
        "X = np.random.randn(100) \n",
        "N = 1000 \n",
        "idx = np.random.randint(0, X.size, (N, X.size))\n",
        "means = X[idx].mean(axis=1)\n",
        "confint = np.percentile(means, [2.5, 97.5])\n",
        "print(confint)"
      ]
    }
  ],
  "metadata": {
    "kernelspec": {
      "display_name": "Python 3",
      "language": "python",
      "name": "python3"
    },
    "language_info": {
      "codemirror_mode": {
        "name": "ipython",
        "version": 3
      },
      "file_extension": ".py",
      "mimetype": "text/x-python",
      "name": "python",
      "nbconvert_exporter": "python",
      "pygments_lexer": "ipython3",
      "version": "3.8.3"
    },
    "colab": {
      "name": "Numpy_tasks.ipynb",
      "provenance": [],
      "collapsed_sections": [
        "ZOc9PqYt3F2R",
        "Px8yCYQp3F2S",
        "2Bg6yfBd3F2S",
        "CqkOsLky3F2h",
        "3QLGEvs53F2h",
        "oiLIhsZI3F2h",
        "W5zoRV9s3F2i",
        "Lf-qC8Vq3F2i",
        "ORO6QRav3F2i",
        "kjv_mDxP3F2j",
        "rqpzfsIZ3F2j",
        "KK4_7A593F2j",
        "jmODHiVL3F2k",
        "nXUFDqrJ3F2k",
        "6kzoHe0Y3F2k",
        "G3ve4yZO3F2l",
        "mVzR4OCI3F2l",
        "opBFb4lV3F2l",
        "BTSidIMj3F2m",
        "vJIjsuBt3F2m",
        "7VD36Jq53F2m",
        "wYYam_333F2m",
        "NHNjsa0k3F2n",
        "1P3E97B53F2n",
        "JBFUg2xr3F2n",
        "USM0biZ53F2o",
        "kkTuZMQC3F2o",
        "wiN3GPBr3F2o",
        "5kCesQMP3F2p",
        "bCWNW2b73F2p",
        "CR3K5TZr3F2q",
        "BhYeNKTC3F2q",
        "QOz3n6_53F2r",
        "d5ng7TR03F2r",
        "3MMfD6PQ3F2r",
        "eW2_NTQa3F2s",
        "CSnrr2Pr3F2s",
        "ygOyExcf3F2s",
        "jw96YuuP3F2t",
        "ZbeqWXPa3F2t",
        "jouL_YpI3F2t",
        "d-DrtoJL3F2u",
        "VAjsb5Q93F2u",
        "C6C8RDVP3F2u",
        "gnNYFFQx3F2v",
        "EVKxnGod3F2v",
        "TLdSo5Mc3F2v",
        "A8CF8OPS3F2w",
        "ofwVYy6j3F2w",
        "WJRQ88Kx3F2w",
        "nPhm1Z6U3F2x",
        "nunWFDO73F2y",
        "LZQF6VgW3F2y",
        "miVCLwDf3F2y",
        "egVvCZHx3F2z",
        "2h93zL6q3F2z",
        "_4OAmLA03F20",
        "sKnfUG3A3F20",
        "o5OZQaCQ3F20",
        "TB_zhiFo3F21"
      ],
      "include_colab_link": true
    }
  },
  "nbformat": 4,
  "nbformat_minor": 0
}